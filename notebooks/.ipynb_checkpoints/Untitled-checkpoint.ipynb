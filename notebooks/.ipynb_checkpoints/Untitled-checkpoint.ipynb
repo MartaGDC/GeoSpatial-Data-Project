{
 "cells": [
  {
   "cell_type": "markdown",
   "id": "81aa546d",
   "metadata": {},
   "source": [
    "# Libraries"
   ]
  },
  {
   "cell_type": "code",
   "execution_count": 1,
   "id": "11831733",
   "metadata": {},
   "outputs": [],
   "source": [
    "from pymongo import MongoClient\n",
    "import pandas as pd"
   ]
  },
  {
   "cell_type": "markdown",
   "id": "3971f8ec",
   "metadata": {},
   "source": [
    "# Create Mongo connection"
   ]
  },
  {
   "cell_type": "code",
   "execution_count": 2,
   "id": "fd813f1a",
   "metadata": {},
   "outputs": [],
   "source": [
    "client = MongoClient(\"localhost:27017\")\n",
    "db = client[\"Ironhack\"]\n",
    "c = db.get_collection(\"companies\")"
   ]
  },
  {
   "cell_type": "markdown",
   "id": "e23716b7",
   "metadata": {},
   "source": [
    "# Find startup companies and their countries\n",
    "\n",
    "A startup has different quantitative characteristics depending on the author. These are the characteristics I will use to define a startup:\n",
    " - Has less than 100 employess: `number_of_employees`\n",
    " - Developers want to be closer to startups that have raised at least 1 million USD: `total_money_raised`"
   ]
  },
  {
   "cell_type": "code",
   "execution_count": 3,
   "id": "0903d5eb",
   "metadata": {},
   "outputs": [],
   "source": [
    "# employees = list(c.find())[i][\"number_of_employees\"]\n",
    "\n",
    "# raised = list(c.find())[i][\"total_money_raised\"]"
   ]
  },
  {
   "cell_type": "code",
   "execution_count": 4,
   "id": "d34ed5c9",
   "metadata": {
    "scrolled": true
   },
   "outputs": [],
   "source": [
    "condition_1 = {\"number_of_employees\":{\"$lt\": 100}}\n",
    "condition_2 = {\"total_money_raised\": {\"$regex\":\".+M$\"}}\n",
    "condition_3 = {\"total_money_raised\": {\"$regex\":\".+B$\"}}\n",
    "projection = {\"offices.city\": 1, \"offices.country_code\": 1, \"_id\": 0}\n",
    "cities_countries = list(c.find({\"$and\": [condition_1, {\"$or\": [condition_2, condition_3]}]}, projection))"
   ]
  },
  {
   "cell_type": "code",
   "execution_count": 5,
   "id": "c5eb25f0",
   "metadata": {},
   "outputs": [
    {
     "data": {
      "text/plain": [
       "[{'offices': [{'city': 'Seattle', 'country_code': 'USA'},\n",
       "   {'city': 'New York', 'country_code': 'USA'}]},\n",
       " {'offices': [{'city': 'San Francisco', 'country_code': 'USA'}]}]"
      ]
     },
     "execution_count": 5,
     "metadata": {},
     "output_type": "execute_result"
    }
   ],
   "source": [
    "cities_countries[:2]"
   ]
  },
  {
   "cell_type": "code",
   "execution_count": 6,
   "id": "e011bf3d",
   "metadata": {},
   "outputs": [
    {
     "data": {
      "text/plain": [
       "'New York'"
      ]
     },
     "execution_count": 6,
     "metadata": {},
     "output_type": "execute_result"
    }
   ],
   "source": [
    "cities_countries[0][\"offices\"][1][\"city\"]"
   ]
  },
  {
   "cell_type": "code",
   "execution_count": 7,
   "id": "f8f2888f",
   "metadata": {},
   "outputs": [
    {
     "data": {
      "text/plain": [
       "{'offices': [{'city': 'Seattle', 'country_code': 'USA'},\n",
       "  {'city': 'New York', 'country_code': 'USA'}]}"
      ]
     },
     "execution_count": 7,
     "metadata": {},
     "output_type": "execute_result"
    }
   ],
   "source": [
    "cities_countries[0]"
   ]
  },
  {
   "cell_type": "code",
   "execution_count": 8,
   "id": "4bec275c",
   "metadata": {
    "scrolled": true
   },
   "outputs": [],
   "source": [
    "cities = [j[\"city\"] for i in cities_countries for j in i[\"offices\"]]\n",
    "countries = [j[\"country_code\"] for i in cities_countries for j in i[\"offices\"]]"
   ]
  },
  {
   "cell_type": "code",
   "execution_count": 9,
   "id": "3585898a",
   "metadata": {},
   "outputs": [],
   "source": [
    "dict_countrycity = {\"city\": cities, \"country\": countries}"
   ]
  },
  {
   "cell_type": "code",
   "execution_count": 10,
   "id": "dc22b0a5",
   "metadata": {},
   "outputs": [
    {
     "data": {
      "text/html": [
       "<div>\n",
       "<style scoped>\n",
       "    .dataframe tbody tr th:only-of-type {\n",
       "        vertical-align: middle;\n",
       "    }\n",
       "\n",
       "    .dataframe tbody tr th {\n",
       "        vertical-align: top;\n",
       "    }\n",
       "\n",
       "    .dataframe thead th {\n",
       "        text-align: right;\n",
       "    }\n",
       "</style>\n",
       "<table border=\"1\" class=\"dataframe\">\n",
       "  <thead>\n",
       "    <tr style=\"text-align: right;\">\n",
       "      <th></th>\n",
       "      <th>count</th>\n",
       "    </tr>\n",
       "    <tr>\n",
       "      <th>country</th>\n",
       "      <th></th>\n",
       "    </tr>\n",
       "  </thead>\n",
       "  <tbody>\n",
       "    <tr>\n",
       "      <th>USA</th>\n",
       "      <td>1067</td>\n",
       "    </tr>\n",
       "    <tr>\n",
       "      <th>GBR</th>\n",
       "      <td>121</td>\n",
       "    </tr>\n",
       "    <tr>\n",
       "      <th>ISR</th>\n",
       "      <td>43</td>\n",
       "    </tr>\n",
       "    <tr>\n",
       "      <th>CAN</th>\n",
       "      <td>40</td>\n",
       "    </tr>\n",
       "    <tr>\n",
       "      <th>FRA</th>\n",
       "      <td>36</td>\n",
       "    </tr>\n",
       "  </tbody>\n",
       "</table>\n",
       "</div>"
      ],
      "text/plain": [
       "         count\n",
       "country       \n",
       "USA       1067\n",
       "GBR        121\n",
       "ISR         43\n",
       "CAN         40\n",
       "FRA         36"
      ]
     },
     "execution_count": 10,
     "metadata": {},
     "output_type": "execute_result"
    }
   ],
   "source": [
    "pd.DataFrame(pd.DataFrame(dict_countrycity)[\"country\"].value_counts()).head()"
   ]
  },
  {
   "cell_type": "code",
   "execution_count": 11,
   "id": "17668448",
   "metadata": {},
   "outputs": [
    {
     "data": {
      "text/html": [
       "<div>\n",
       "<style scoped>\n",
       "    .dataframe tbody tr th:only-of-type {\n",
       "        vertical-align: middle;\n",
       "    }\n",
       "\n",
       "    .dataframe tbody tr th {\n",
       "        vertical-align: top;\n",
       "    }\n",
       "\n",
       "    .dataframe thead th {\n",
       "        text-align: right;\n",
       "    }\n",
       "</style>\n",
       "<table border=\"1\" class=\"dataframe\">\n",
       "  <thead>\n",
       "    <tr style=\"text-align: right;\">\n",
       "      <th></th>\n",
       "      <th>count</th>\n",
       "    </tr>\n",
       "    <tr>\n",
       "      <th>city</th>\n",
       "      <th></th>\n",
       "    </tr>\n",
       "  </thead>\n",
       "  <tbody>\n",
       "    <tr>\n",
       "      <th>San Francisco</th>\n",
       "      <td>181</td>\n",
       "    </tr>\n",
       "    <tr>\n",
       "      <th>New York</th>\n",
       "      <td>120</td>\n",
       "    </tr>\n",
       "    <tr>\n",
       "      <th>London</th>\n",
       "      <td>72</td>\n",
       "    </tr>\n",
       "    <tr>\n",
       "      <th>Seattle</th>\n",
       "      <td>42</td>\n",
       "    </tr>\n",
       "    <tr>\n",
       "      <th>Palo Alto</th>\n",
       "      <td>40</td>\n",
       "    </tr>\n",
       "  </tbody>\n",
       "</table>\n",
       "</div>"
      ],
      "text/plain": [
       "               count\n",
       "city                \n",
       "San Francisco    181\n",
       "New York         120\n",
       "London            72\n",
       "Seattle           42\n",
       "Palo Alto         40"
      ]
     },
     "execution_count": 11,
     "metadata": {},
     "output_type": "execute_result"
    }
   ],
   "source": [
    "pd.DataFrame(pd.DataFrame(dict_countrycity)[\"city\"].value_counts()).head()"
   ]
  },
  {
   "cell_type": "code",
   "execution_count": null,
   "id": "0dd2c7fa",
   "metadata": {},
   "outputs": [],
   "source": []
  },
  {
   "cell_type": "code",
   "execution_count": null,
   "id": "1c889512",
   "metadata": {},
   "outputs": [],
   "source": []
  },
  {
   "cell_type": "code",
   "execution_count": null,
   "id": "f7381889",
   "metadata": {},
   "outputs": [],
   "source": []
  },
  {
   "cell_type": "code",
   "execution_count": null,
   "id": "3ea3b641",
   "metadata": {},
   "outputs": [],
   "source": []
  }
 ],
 "metadata": {
  "kernelspec": {
   "display_name": "ironhack",
   "language": "python",
   "name": "ironhack"
  },
  "language_info": {
   "codemirror_mode": {
    "name": "ipython",
    "version": 3
   },
   "file_extension": ".py",
   "mimetype": "text/x-python",
   "name": "python",
   "nbconvert_exporter": "python",
   "pygments_lexer": "ipython3",
   "version": "3.11.5"
  }
 },
 "nbformat": 4,
 "nbformat_minor": 5
}
