{
 "cells": [
  {
   "cell_type": "markdown",
   "id": "86a25ff7",
   "metadata": {},
   "source": [
    "# Conditions and to do's:\n",
    "---\n",
    "- Developers like to be near successful tech startups that have raised at least 1 Million dollars.\n",
    "    - San Francisco: Financial District, South Of Market or Mission Bay\n",
    "- Everyone in the company is between 25 and 40, give them some place to go party.\n",
    "    - San Francisco: South Of Market -> 13 possible offices\n",
    "- Designers like to go to design talks and share knowledge. There must be some nearby companies that also do design.\n",
    "    - `[-122.394523, 37.764726]` in Potrero Hill  \n",
    "---\n",
    "To do:\n",
    "- 30% of the company staff have at least 1 child.\n",
    "    - To do: look for schools in/near South Of Market\n",
    "- Executives like Starbucks A LOT. Ensure there's a starbucks not too far.\n",
    "    - To do: look for Starbucks in/near South Of Market\n",
    "- Account managers need to travel a lot.\n",
    "    - To do: look for renting car places in/near South Of Market\n",
    "- The CEO is vegan.\n",
    "    - To do: look for vegan places in/near South of Market\n",
    "- If you want to make the maintenance guy happy, a basketball stadium must be around 10 Km.\n",
    "    - To do: look for a basketball stadium and check the distance to the possible offices\n",
    "- The office dog—\"Dobby\" needs a hairdresser every month. Ensure there's one not too far away.\n",
    "    - To do: look for a pet hairdresser"
   ]
  },
  {
   "cell_type": "markdown",
   "id": "d6888e4d",
   "metadata": {},
   "source": [
    "# Libraries"
   ]
  },
  {
   "cell_type": "code",
   "execution_count": 1,
   "id": "2c58dafd",
   "metadata": {},
   "outputs": [],
   "source": [
    "import os\n",
    "import requests\n",
    "import json\n",
    "import pandas as pd\n",
    "import geopandas as gpd\n",
    "import folium\n",
    "from folium import Choropleth, Circle, Marker, Icon, Map\n",
    "from dotenv import load_dotenv\n",
    "import time\n",
    "import math"
   ]
  },
  {
   "cell_type": "markdown",
   "id": "0afc5196",
   "metadata": {},
   "source": [
    "# Requests"
   ]
  },
  {
   "cell_type": "code",
   "execution_count": null,
   "id": "f8e9697c",
   "metadata": {},
   "outputs": [],
   "source": [
    "def getCoordinates(address):\n",
    "    url_geocode = f\"https://geocode.xyz/{address}?json=1\"\n",
    "    res = requests.get(url_geocode)\n",
    "    try:\n",
    "        return res.json()\n",
    "    except:\n",
    "        time.sleep(4)\n",
    "        getCoordinates(address)"
   ]
  },
  {
   "cell_type": "code",
   "execution_count": null,
   "id": "c0a7c3cd",
   "metadata": {},
   "outputs": [],
   "source": [
    "res = getCoordinates(\"San Francisco\")\n",
    "res"
   ]
  },
  {
   "cell_type": "code",
   "execution_count": null,
   "id": "2643886e",
   "metadata": {},
   "outputs": [],
   "source": [
    "lat, lon = res[\"alt\"][\"loc\"][\"latt\"], res[\"alt\"][\"loc\"][\"longt\"]\n",
    "map_SF = Map(location = [lat, lon], zoom_start = 12)\n",
    "map_SF"
   ]
  },
  {
   "cell_type": "code",
   "execution_count": null,
   "id": "212f1610",
   "metadata": {},
   "outputs": [],
   "source": [
    "# These coordinates are not very accurate for the neighborhood of interest. I'm using the one found in wikipedia:\n",
    "lat = 37.7772222\n",
    "lon = -122.4111111"
   ]
  },
  {
   "cell_type": "code",
   "execution_count": 19,
   "id": "2d12f4a2",
   "metadata": {},
   "outputs": [
    {
     "data": {
      "text/plain": [
       "True"
      ]
     },
     "execution_count": 19,
     "metadata": {},
     "output_type": "execute_result"
    }
   ],
   "source": [
    "load_dotenv()"
   ]
  },
  {
   "cell_type": "code",
   "execution_count": 20,
   "id": "ed53d2dc",
   "metadata": {},
   "outputs": [],
   "source": [
    "token = os.getenv(\"token\")"
   ]
  },
  {
   "cell_type": "code",
   "execution_count": 21,
   "id": "a4704328",
   "metadata": {},
   "outputs": [],
   "source": [
    "#Size of South of Market: it is aproximately 2.3 miles long -> 3.7 km long"
   ]
  },
  {
   "cell_type": "code",
   "execution_count": 22,
   "id": "4561104b",
   "metadata": {},
   "outputs": [],
   "source": [
    "def request_4sq(venue, lat, lon, radius = 3700, sort_by = \"DISTANCE\", limit = 20):\n",
    "    url = f\"https://api.foursquare.com/v3/places/search?query={venue}&ll={lat}%2C{lon}&radius={radius}&sort={sort_by}&limit={limit}\"\n",
    "    headers = {\n",
    "        \"accept\": \"application/json\",\n",
    "        \"Authorization\": token\n",
    "    }\n",
    "    try:\n",
    "        return requests.get(url, headers = headers).json()\n",
    "    except:\n",
    "        print(\"Request not found\")"
   ]
  },
  {
   "cell_type": "code",
   "execution_count": 23,
   "id": "afc82c3e",
   "metadata": {},
   "outputs": [],
   "source": [
    "school_request = request_4sq(\"school\", lat, lon)"
   ]
  },
  {
   "cell_type": "markdown",
   "id": "d4011281",
   "metadata": {},
   "source": [
    "# Distances"
   ]
  },
  {
   "cell_type": "code",
   "execution_count": 56,
   "id": "4cb7217a",
   "metadata": {},
   "outputs": [],
   "source": [
    "def distances(coordinates_1, coordinates_2):\n",
    "    R = 6371000 # radius of Earth in meters\n",
    "    lon_1, lat_1 = coordinates_1\n",
    "    lon_2, lat_2 = coordinates_2\n",
    "    phi_1 = math.radians(lat_1)\n",
    "    phi_2 = math.radians(lat_2)\n",
    "    delta_phi = math.radians(lat_2 - lat_1)\n",
    "    delta_lambda = math.radians(lon_2 - lon_1)\n",
    "    a = math.sin(delta_phi / 2.0) ** 2 + math.cos(phi_1) * math.cos(phi_2) * math.sin(delta_lambda / 2.0) ** 2\n",
    "    c = 2 * math.atan2(math.sqrt(a), math.sqrt(1 - a))\n",
    "    km = round(R * c / 1000.0, 3)\n",
    "    return km"
   ]
  },
  {
   "cell_type": "markdown",
   "id": "8e599f2d",
   "metadata": {},
   "source": [
    "# Weighing priorities"
   ]
  },
  {
   "cell_type": "markdown",
   "id": "e814ecce",
   "metadata": {},
   "source": [
    "According to the number of people affected by their expressed needs, they are prioritised:\n",
    "- Everyone in the company is between 25 and 40, give them some place to go party. **DONE**\n",
    "- 30% of the company staff (29 people) have at least 1 child. **school_df, PRIORITY 1**\n",
    "- 20 Designers : Designers like to go to design talks and share knowledge. There must be some nearby companies that also do design. **designSF_coordinates, PRIORITY 2**\n",
    "- 20 Account Managers: Account managers need to travel a lot. **cars_df, PRIORITY 3**\n",
    "- 15 Data Engineers\n",
    "- 10 Frontend Developers, 5 Backend Developers: Developers like to be near successful tech startups that have raised at least 1 Million dollars. **DONE**\n",
    "- 10 Executives: Executives like Starbucks A LOT. Ensure there's a starbucks not too far. **sctarbucks_df, PRIORITY 4**\n",
    "- 5 UI/UX Engineers\n",
    "- 1 Maintenance guy that loves basketball. **courts_df, PRIORITY 5**\n",
    "- 1 CEO/President: The CEO is vegan. **vegan_df, PRIORITY 6**\n",
    "- The office dog—\"Dobby\" needs a hairdresser every month. Ensure there's one not too far away. **dogs_df, PRIORITY 7**"
   ]
  },
  {
   "cell_type": "markdown",
   "id": "1ab20fae",
   "metadata": {},
   "source": [
    "## Priority 1: Schools"
   ]
  },
  {
   "cell_type": "code",
   "execution_count": 29,
   "id": "04b8d7d0",
   "metadata": {},
   "outputs": [
    {
     "data": {
      "text/plain": [
       "'Daycare'"
      ]
     },
     "execution_count": 29,
     "metadata": {},
     "output_type": "execute_result"
    }
   ],
   "source": [
    "school_request[\"results\"][3][\"categories\"][0][\"name\"]"
   ]
  },
  {
   "cell_type": "code",
   "execution_count": 30,
   "id": "e740b56b",
   "metadata": {},
   "outputs": [
    {
     "name": "stdout",
     "output_type": "stream",
     "text": [
      "['College and University', 'Preschool', 'Technology Business', 'Daycare', 'Education', 'Language School', 'Elementary School', 'Preschool', 'College Academic Building', 'Music School', 'College and University', 'Daycare', 'Law School', 'Education', 'College Academic Building', 'Preschool', 'Non-Profit Organization', 'Education', 'Education', 'Public Art']\n"
     ]
    }
   ],
   "source": [
    "school_categ = [i[\"categories\"][0][\"name\"] for i in school_request[\"results\"]]\n",
    "print(school_categ)"
   ]
  },
  {
   "cell_type": "code",
   "execution_count": 31,
   "id": "ed96c3a2",
   "metadata": {},
   "outputs": [],
   "source": [
    "school_lat = [i[\"geocodes\"][\"main\"][\"latitude\"] for i in school_request[\"results\"]]\n",
    "school_lon = [i[\"geocodes\"][\"main\"][\"longitude\"] for i in school_request[\"results\"]]"
   ]
  },
  {
   "cell_type": "code",
   "execution_count": 112,
   "id": "2c30744b",
   "metadata": {},
   "outputs": [],
   "source": [
    "school_name = [i[\"name\"] for i in school_request[\"results\"]]"
   ]
  },
  {
   "cell_type": "code",
   "execution_count": 33,
   "id": "6bce896e",
   "metadata": {},
   "outputs": [
    {
     "name": "stdout",
     "output_type": "stream",
     "text": [
      "['LikelyOpen', 'VeryLikelyOpen', 'VeryLikelyClosed', 'VeryLikelyOpen', 'LikelyOpen', 'VeryLikelyOpen', 'VeryLikelyOpen', 'Unsure', 'LikelyOpen', 'Unsure', 'LikelyOpen', 'LikelyOpen', 'VeryLikelyOpen', 'Unsure', 'LikelyClosed', 'Unsure', 'LikelyOpen', 'LikelyOpen', 'Unsure', 'LikelyOpen']\n"
     ]
    }
   ],
   "source": [
    "school_open = [i[\"closed_bucket\"] for i in school_request[\"results\"]]\n",
    "print(school_open)"
   ]
  },
  {
   "cell_type": "code",
   "execution_count": 116,
   "id": "e6f01a5c",
   "metadata": {},
   "outputs": [],
   "source": [
    "df_schools = pd.DataFrame({\"school_name\":school_name, \"school_categ\": school_categ, \"school_lat\": school_lat, \"school_lon\": school_lon, \"school_open\": school_open})"
   ]
  },
  {
   "cell_type": "code",
   "execution_count": 117,
   "id": "71d1379a",
   "metadata": {},
   "outputs": [
    {
     "data": {
      "text/html": [
       "<div>\n",
       "<style scoped>\n",
       "    .dataframe tbody tr th:only-of-type {\n",
       "        vertical-align: middle;\n",
       "    }\n",
       "\n",
       "    .dataframe tbody tr th {\n",
       "        vertical-align: top;\n",
       "    }\n",
       "\n",
       "    .dataframe thead th {\n",
       "        text-align: right;\n",
       "    }\n",
       "</style>\n",
       "<table border=\"1\" class=\"dataframe\">\n",
       "  <thead>\n",
       "    <tr style=\"text-align: right;\">\n",
       "      <th></th>\n",
       "      <th>school_name</th>\n",
       "      <th>school_categ</th>\n",
       "      <th>school_lat</th>\n",
       "      <th>school_lon</th>\n",
       "      <th>school_open</th>\n",
       "    </tr>\n",
       "  </thead>\n",
       "  <tbody>\n",
       "    <tr>\n",
       "      <th>0</th>\n",
       "      <td>Bradfield School of Computer Science</td>\n",
       "      <td>College and University</td>\n",
       "      <td>37.777085</td>\n",
       "      <td>-122.410024</td>\n",
       "      <td>LikelyOpen</td>\n",
       "    </tr>\n",
       "    <tr>\n",
       "      <th>1</th>\n",
       "      <td>KinderCare Learning Center</td>\n",
       "      <td>Preschool</td>\n",
       "      <td>37.779426</td>\n",
       "      <td>-122.411882</td>\n",
       "      <td>VeryLikelyOpen</td>\n",
       "    </tr>\n",
       "    <tr>\n",
       "      <th>2</th>\n",
       "      <td>Drawn to Scale HQ / Beauty School</td>\n",
       "      <td>Technology Business</td>\n",
       "      <td>37.779378</td>\n",
       "      <td>-122.410374</td>\n",
       "      <td>VeryLikelyClosed</td>\n",
       "    </tr>\n",
       "    <tr>\n",
       "      <th>3</th>\n",
       "      <td>C5 Children's School</td>\n",
       "      <td>Daycare</td>\n",
       "      <td>37.780990</td>\n",
       "      <td>-122.419214</td>\n",
       "      <td>VeryLikelyOpen</td>\n",
       "    </tr>\n",
       "    <tr>\n",
       "      <th>4</th>\n",
       "      <td>Bay Area Motorcycle School</td>\n",
       "      <td>Education</td>\n",
       "      <td>37.774363</td>\n",
       "      <td>-122.413160</td>\n",
       "      <td>LikelyOpen</td>\n",
       "    </tr>\n",
       "    <tr>\n",
       "      <th>5</th>\n",
       "      <td>Ukrainian School of San Francisco / Українська...</td>\n",
       "      <td>Language School</td>\n",
       "      <td>37.776338</td>\n",
       "      <td>-122.406969</td>\n",
       "      <td>VeryLikelyOpen</td>\n",
       "    </tr>\n",
       "    <tr>\n",
       "      <th>6</th>\n",
       "      <td>Bessie Carmichael Elementary School</td>\n",
       "      <td>Elementary School</td>\n",
       "      <td>37.776344</td>\n",
       "      <td>-122.406468</td>\n",
       "      <td>VeryLikelyOpen</td>\n",
       "    </tr>\n",
       "    <tr>\n",
       "      <th>7</th>\n",
       "      <td>Presidio Knolls School</td>\n",
       "      <td>Preschool</td>\n",
       "      <td>37.773203</td>\n",
       "      <td>-122.413809</td>\n",
       "      <td>Unsure</td>\n",
       "    </tr>\n",
       "    <tr>\n",
       "      <th>8</th>\n",
       "      <td>California Institute of Integral Studies</td>\n",
       "      <td>College Academic Building</td>\n",
       "      <td>37.774589</td>\n",
       "      <td>-122.416184</td>\n",
       "      <td>LikelyOpen</td>\n",
       "    </tr>\n",
       "    <tr>\n",
       "      <th>9</th>\n",
       "      <td>John Scott School Of Voice</td>\n",
       "      <td>Music School</td>\n",
       "      <td>37.781455</td>\n",
       "      <td>-122.407558</td>\n",
       "      <td>Unsure</td>\n",
       "    </tr>\n",
       "    <tr>\n",
       "      <th>10</th>\n",
       "      <td>Ciis: School of Psychology</td>\n",
       "      <td>College and University</td>\n",
       "      <td>37.777234</td>\n",
       "      <td>-122.417487</td>\n",
       "      <td>LikelyOpen</td>\n",
       "    </tr>\n",
       "    <tr>\n",
       "      <th>11</th>\n",
       "      <td>Love &amp; Learn Nursery School</td>\n",
       "      <td>Daycare</td>\n",
       "      <td>37.773386</td>\n",
       "      <td>-122.414823</td>\n",
       "      <td>LikelyOpen</td>\n",
       "    </tr>\n",
       "    <tr>\n",
       "      <th>12</th>\n",
       "      <td>University of California Hastings College of t...</td>\n",
       "      <td>Law School</td>\n",
       "      <td>37.780845</td>\n",
       "      <td>-122.415550</td>\n",
       "      <td>VeryLikelyOpen</td>\n",
       "    </tr>\n",
       "    <tr>\n",
       "      <th>13</th>\n",
       "      <td>Horizons School of Technology</td>\n",
       "      <td>Education</td>\n",
       "      <td>37.771746</td>\n",
       "      <td>-122.409350</td>\n",
       "      <td>Unsure</td>\n",
       "    </tr>\n",
       "    <tr>\n",
       "      <th>14</th>\n",
       "      <td>San Francisco School of Digital Filmmaking</td>\n",
       "      <td>College Academic Building</td>\n",
       "      <td>37.782144</td>\n",
       "      <td>-122.406666</td>\n",
       "      <td>LikelyClosed</td>\n",
       "    </tr>\n",
       "    <tr>\n",
       "      <th>15</th>\n",
       "      <td>LePort School</td>\n",
       "      <td>Preschool</td>\n",
       "      <td>37.776800</td>\n",
       "      <td>-122.418895</td>\n",
       "      <td>Unsure</td>\n",
       "    </tr>\n",
       "    <tr>\n",
       "      <th>16</th>\n",
       "      <td>Tenderloin After-School Program Center</td>\n",
       "      <td>Non-Profit Organization</td>\n",
       "      <td>37.783915</td>\n",
       "      <td>-122.411287</td>\n",
       "      <td>LikelyOpen</td>\n",
       "    </tr>\n",
       "    <tr>\n",
       "      <th>17</th>\n",
       "      <td>SFUSD-Van Ness</td>\n",
       "      <td>Education</td>\n",
       "      <td>37.776696</td>\n",
       "      <td>-122.419821</td>\n",
       "      <td>LikelyOpen</td>\n",
       "    </tr>\n",
       "    <tr>\n",
       "      <th>18</th>\n",
       "      <td>High School of Commerce</td>\n",
       "      <td>Education</td>\n",
       "      <td>37.776815</td>\n",
       "      <td>-122.419971</td>\n",
       "      <td>Unsure</td>\n",
       "    </tr>\n",
       "    <tr>\n",
       "      <th>19</th>\n",
       "      <td>Redding School, Self-Portrait</td>\n",
       "      <td>Public Art</td>\n",
       "      <td>37.784538</td>\n",
       "      <td>-122.412112</td>\n",
       "      <td>LikelyOpen</td>\n",
       "    </tr>\n",
       "  </tbody>\n",
       "</table>\n",
       "</div>"
      ],
      "text/plain": [
       "                                          school_name  \\\n",
       "0                Bradfield School of Computer Science   \n",
       "1                          KinderCare Learning Center   \n",
       "2                   Drawn to Scale HQ / Beauty School   \n",
       "3                                C5 Children's School   \n",
       "4                          Bay Area Motorcycle School   \n",
       "5   Ukrainian School of San Francisco / Українська...   \n",
       "6                 Bessie Carmichael Elementary School   \n",
       "7                              Presidio Knolls School   \n",
       "8            California Institute of Integral Studies   \n",
       "9                          John Scott School Of Voice   \n",
       "10                         Ciis: School of Psychology   \n",
       "11                        Love & Learn Nursery School   \n",
       "12  University of California Hastings College of t...   \n",
       "13                      Horizons School of Technology   \n",
       "14         San Francisco School of Digital Filmmaking   \n",
       "15                                      LePort School   \n",
       "16             Tenderloin After-School Program Center   \n",
       "17                                     SFUSD-Van Ness   \n",
       "18                            High School of Commerce   \n",
       "19                      Redding School, Self-Portrait   \n",
       "\n",
       "                 school_categ  school_lat  school_lon       school_open  \n",
       "0      College and University   37.777085 -122.410024        LikelyOpen  \n",
       "1                   Preschool   37.779426 -122.411882    VeryLikelyOpen  \n",
       "2         Technology Business   37.779378 -122.410374  VeryLikelyClosed  \n",
       "3                     Daycare   37.780990 -122.419214    VeryLikelyOpen  \n",
       "4                   Education   37.774363 -122.413160        LikelyOpen  \n",
       "5             Language School   37.776338 -122.406969    VeryLikelyOpen  \n",
       "6           Elementary School   37.776344 -122.406468    VeryLikelyOpen  \n",
       "7                   Preschool   37.773203 -122.413809            Unsure  \n",
       "8   College Academic Building   37.774589 -122.416184        LikelyOpen  \n",
       "9                Music School   37.781455 -122.407558            Unsure  \n",
       "10     College and University   37.777234 -122.417487        LikelyOpen  \n",
       "11                    Daycare   37.773386 -122.414823        LikelyOpen  \n",
       "12                 Law School   37.780845 -122.415550    VeryLikelyOpen  \n",
       "13                  Education   37.771746 -122.409350            Unsure  \n",
       "14  College Academic Building   37.782144 -122.406666      LikelyClosed  \n",
       "15                  Preschool   37.776800 -122.418895            Unsure  \n",
       "16    Non-Profit Organization   37.783915 -122.411287        LikelyOpen  \n",
       "17                  Education   37.776696 -122.419821        LikelyOpen  \n",
       "18                  Education   37.776815 -122.419971            Unsure  \n",
       "19                 Public Art   37.784538 -122.412112        LikelyOpen  "
      ]
     },
     "execution_count": 117,
     "metadata": {},
     "output_type": "execute_result"
    }
   ],
   "source": [
    "df_schools"
   ]
  },
  {
   "cell_type": "code",
   "execution_count": 127,
   "id": "4c13629e",
   "metadata": {
    "scrolled": true
   },
   "outputs": [
    {
     "data": {
      "text/html": [
       "<div>\n",
       "<style scoped>\n",
       "    .dataframe tbody tr th:only-of-type {\n",
       "        vertical-align: middle;\n",
       "    }\n",
       "\n",
       "    .dataframe tbody tr th {\n",
       "        vertical-align: top;\n",
       "    }\n",
       "\n",
       "    .dataframe thead th {\n",
       "        text-align: right;\n",
       "    }\n",
       "</style>\n",
       "<table border=\"1\" class=\"dataframe\">\n",
       "  <thead>\n",
       "    <tr style=\"text-align: right;\">\n",
       "      <th></th>\n",
       "      <th>school_name</th>\n",
       "      <th>school_categ</th>\n",
       "      <th>school_lat</th>\n",
       "      <th>school_lon</th>\n",
       "    </tr>\n",
       "  </thead>\n",
       "  <tbody>\n",
       "    <tr>\n",
       "      <th>1</th>\n",
       "      <td>KinderCare Learning Center</td>\n",
       "      <td>Preschool</td>\n",
       "      <td>37.779426</td>\n",
       "      <td>-122.411882</td>\n",
       "    </tr>\n",
       "    <tr>\n",
       "      <th>3</th>\n",
       "      <td>C5 Children's School</td>\n",
       "      <td>Daycare</td>\n",
       "      <td>37.780990</td>\n",
       "      <td>-122.419214</td>\n",
       "    </tr>\n",
       "    <tr>\n",
       "      <th>6</th>\n",
       "      <td>Bessie Carmichael Elementary School</td>\n",
       "      <td>Elementary School</td>\n",
       "      <td>37.776344</td>\n",
       "      <td>-122.406468</td>\n",
       "    </tr>\n",
       "    <tr>\n",
       "      <th>11</th>\n",
       "      <td>Love &amp; Learn Nursery School</td>\n",
       "      <td>Daycare</td>\n",
       "      <td>37.773386</td>\n",
       "      <td>-122.414823</td>\n",
       "    </tr>\n",
       "  </tbody>\n",
       "</table>\n",
       "</div>"
      ],
      "text/plain": [
       "                            school_name       school_categ  school_lat  \\\n",
       "1            KinderCare Learning Center          Preschool   37.779426   \n",
       "3                  C5 Children's School            Daycare   37.780990   \n",
       "6   Bessie Carmichael Elementary School  Elementary School   37.776344   \n",
       "11          Love & Learn Nursery School            Daycare   37.773386   \n",
       "\n",
       "    school_lon  \n",
       "1  -122.411882  \n",
       "3  -122.419214  \n",
       "6  -122.406468  \n",
       "11 -122.414823  "
      ]
     },
     "execution_count": 127,
     "metadata": {},
     "output_type": "execute_result"
    }
   ],
   "source": [
    "indexes = df_schools[\"school_categ\"][df_schools[\"school_categ\"].isin([\"College and University\", \"Technology Business\", \"Language School\", \n",
    "                                               \"College Academic Building\", \"Music School\", \"College and University\", \"Law School\",\n",
    "                                               \"College Academic Building\", \"Public Art\"])].index\n",
    "df_schools.drop(indexes, inplace=True)\n",
    "indexes = df_schools[\"school_open\"][df_schools[\"school_open\"].isin([\"Unsure\", \"LikelyClosed\"])].index\n",
    "df_schools.drop(indexes, inplace=True)\n",
    "df_schools\n",
    "indexes = df_schools[\"school_name\"][df_schools[\"school_name\"].isin([\"Bay Area Motorcycle School\", \"Tenderloin After-School Program Center\", \"SFUSD-Van Ness\"])].index\n",
    "df_schools.drop(indexes, inplace=True)\n",
    "df_schools.drop(columns = \"school_open\", axis = 1, inplace=True)\n",
    "df_schools"
   ]
  },
  {
   "cell_type": "markdown",
   "id": "c4bc1b6a",
   "metadata": {},
   "source": [
    "### School distance"
   ]
  },
  {
   "cell_type": "code",
   "execution_count": 128,
   "id": "14c8d028",
   "metadata": {},
   "outputs": [],
   "source": [
    "list_offices = [{'type': 'Point', 'coordinates': [-122.391276, 37.7815]},\n",
    "                {'type': 'Point', 'coordinates': [-122.3921923, 37.781381]},\n",
    "                {'type': 'Point', 'coordinates': [-122.4097127, 37.78205]},\n",
    "                {'type': 'Point', 'coordinates': [-122.405783, 37.785435]},\n",
    "                {'type': 'Point', 'coordinates': [-122.405783, 37.785435]},\n",
    "                {'type': 'Point', 'coordinates': [-122.405783, 37.785435]},\n",
    "                {'type': 'Point', 'coordinates': [-122.405783, 37.785435]},\n",
    "                {'type': 'Point', 'coordinates': [-122.405783, 37.785435]},\n",
    "                {'type': 'Point', 'coordinates': [-122.405783, 37.785435]},\n",
    "                {'type': 'Point', 'coordinates': [-122.408109, 37.783521]},\n",
    "                {'type': 'Point', 'coordinates': [-122.3920816, 37.7828482]},\n",
    "                {'type': 'Point', 'coordinates': [-122.3920816, 37.7828482]},\n",
    "                {'type': 'Point', 'coordinates': [-122.39586, 37.785766]}]"
   ]
  },
  {
   "cell_type": "code",
   "execution_count": 129,
   "id": "6f26ee87",
   "metadata": {},
   "outputs": [
    {
     "data": {
      "text/plain": [
       "[[37.779426, -122.411882],\n",
       " [37.78099, -122.419214],\n",
       " [37.776344, -122.406468],\n",
       " [37.773386, -122.414823]]"
      ]
     },
     "execution_count": 129,
     "metadata": {},
     "output_type": "execute_result"
    }
   ],
   "source": [
    "school_coordinates = [[row[\"school_lat\"], row[\"school_lon\"]] for index, row in df_schools.iterrows()]\n",
    "school_coordinates"
   ]
  },
  {
   "cell_type": "code",
   "execution_count": 130,
   "id": "abccba33",
   "metadata": {
    "scrolled": true
   },
   "outputs": [
    {
     "data": {
      "text/html": [
       "<div>\n",
       "<style scoped>\n",
       "    .dataframe tbody tr th:only-of-type {\n",
       "        vertical-align: middle;\n",
       "    }\n",
       "\n",
       "    .dataframe tbody tr th {\n",
       "        vertical-align: top;\n",
       "    }\n",
       "\n",
       "    .dataframe thead th {\n",
       "        text-align: right;\n",
       "    }\n",
       "</style>\n",
       "<table border=\"1\" class=\"dataframe\">\n",
       "  <thead>\n",
       "    <tr style=\"text-align: right;\">\n",
       "      <th></th>\n",
       "      <th>office</th>\n",
       "      <th>school</th>\n",
       "      <th>distance</th>\n",
       "    </tr>\n",
       "  </thead>\n",
       "  <tbody>\n",
       "    <tr>\n",
       "      <th>8</th>\n",
       "      <td>{'type': 'Point', 'coordinates': [-122.4097127...</td>\n",
       "      <td>[37.779426, -122.411882]</td>\n",
       "      <td>0.287</td>\n",
       "    </tr>\n",
       "    <tr>\n",
       "      <th>38</th>\n",
       "      <td>{'type': 'Point', 'coordinates': [-122.408109,...</td>\n",
       "      <td>[37.776344, -122.406468]</td>\n",
       "      <td>0.465</td>\n",
       "    </tr>\n",
       "    <tr>\n",
       "      <th>36</th>\n",
       "      <td>{'type': 'Point', 'coordinates': [-122.408109,...</td>\n",
       "      <td>[37.779426, -122.411882]</td>\n",
       "      <td>0.485</td>\n",
       "    </tr>\n",
       "    <tr>\n",
       "      <th>10</th>\n",
       "      <td>{'type': 'Point', 'coordinates': [-122.4097127...</td>\n",
       "      <td>[37.776344, -122.406468]</td>\n",
       "      <td>0.496</td>\n",
       "    </tr>\n",
       "    <tr>\n",
       "      <th>14</th>\n",
       "      <td>{'type': 'Point', 'coordinates': [-122.405783,...</td>\n",
       "      <td>[37.776344, -122.406468]</td>\n",
       "      <td>0.547</td>\n",
       "    </tr>\n",
       "    <tr>\n",
       "      <th>26</th>\n",
       "      <td>{'type': 'Point', 'coordinates': [-122.405783,...</td>\n",
       "      <td>[37.776344, -122.406468]</td>\n",
       "      <td>0.547</td>\n",
       "    </tr>\n",
       "    <tr>\n",
       "      <th>34</th>\n",
       "      <td>{'type': 'Point', 'coordinates': [-122.405783,...</td>\n",
       "      <td>[37.776344, -122.406468]</td>\n",
       "      <td>0.547</td>\n",
       "    </tr>\n",
       "    <tr>\n",
       "      <th>22</th>\n",
       "      <td>{'type': 'Point', 'coordinates': [-122.405783,...</td>\n",
       "      <td>[37.776344, -122.406468]</td>\n",
       "      <td>0.547</td>\n",
       "    </tr>\n",
       "    <tr>\n",
       "      <th>18</th>\n",
       "      <td>{'type': 'Point', 'coordinates': [-122.405783,...</td>\n",
       "      <td>[37.776344, -122.406468]</td>\n",
       "      <td>0.547</td>\n",
       "    </tr>\n",
       "    <tr>\n",
       "      <th>30</th>\n",
       "      <td>{'type': 'Point', 'coordinates': [-122.405783,...</td>\n",
       "      <td>[37.776344, -122.406468]</td>\n",
       "      <td>0.547</td>\n",
       "    </tr>\n",
       "    <tr>\n",
       "      <th>24</th>\n",
       "      <td>{'type': 'Point', 'coordinates': [-122.405783,...</td>\n",
       "      <td>[37.779426, -122.411882]</td>\n",
       "      <td>0.767</td>\n",
       "    </tr>\n",
       "    <tr>\n",
       "      <th>16</th>\n",
       "      <td>{'type': 'Point', 'coordinates': [-122.405783,...</td>\n",
       "      <td>[37.779426, -122.411882]</td>\n",
       "      <td>0.767</td>\n",
       "    </tr>\n",
       "    <tr>\n",
       "      <th>20</th>\n",
       "      <td>{'type': 'Point', 'coordinates': [-122.405783,...</td>\n",
       "      <td>[37.779426, -122.411882]</td>\n",
       "      <td>0.767</td>\n",
       "    </tr>\n",
       "    <tr>\n",
       "      <th>32</th>\n",
       "      <td>{'type': 'Point', 'coordinates': [-122.405783,...</td>\n",
       "      <td>[37.779426, -122.411882]</td>\n",
       "      <td>0.767</td>\n",
       "    </tr>\n",
       "    <tr>\n",
       "      <th>12</th>\n",
       "      <td>{'type': 'Point', 'coordinates': [-122.405783,...</td>\n",
       "      <td>[37.779426, -122.411882]</td>\n",
       "      <td>0.767</td>\n",
       "    </tr>\n",
       "    <tr>\n",
       "      <th>28</th>\n",
       "      <td>{'type': 'Point', 'coordinates': [-122.405783,...</td>\n",
       "      <td>[37.779426, -122.411882]</td>\n",
       "      <td>0.767</td>\n",
       "    </tr>\n",
       "    <tr>\n",
       "      <th>11</th>\n",
       "      <td>{'type': 'Point', 'coordinates': [-122.4097127...</td>\n",
       "      <td>[37.773386, -122.414823]</td>\n",
       "      <td>0.768</td>\n",
       "    </tr>\n",
       "    <tr>\n",
       "      <th>39</th>\n",
       "      <td>{'type': 'Point', 'coordinates': [-122.408109,...</td>\n",
       "      <td>[37.773386, -122.414823]</td>\n",
       "      <td>0.960</td>\n",
       "    </tr>\n",
       "    <tr>\n",
       "      <th>9</th>\n",
       "      <td>{'type': 'Point', 'coordinates': [-122.4097127...</td>\n",
       "      <td>[37.78099, -122.419214]</td>\n",
       "      <td>1.058</td>\n",
       "    </tr>\n",
       "    <tr>\n",
       "      <th>31</th>\n",
       "      <td>{'type': 'Point', 'coordinates': [-122.405783,...</td>\n",
       "      <td>[37.773386, -122.414823]</td>\n",
       "      <td>1.235</td>\n",
       "    </tr>\n",
       "    <tr>\n",
       "      <th>27</th>\n",
       "      <td>{'type': 'Point', 'coordinates': [-122.405783,...</td>\n",
       "      <td>[37.773386, -122.414823]</td>\n",
       "      <td>1.235</td>\n",
       "    </tr>\n",
       "    <tr>\n",
       "      <th>15</th>\n",
       "      <td>{'type': 'Point', 'coordinates': [-122.405783,...</td>\n",
       "      <td>[37.773386, -122.414823]</td>\n",
       "      <td>1.235</td>\n",
       "    </tr>\n",
       "    <tr>\n",
       "      <th>19</th>\n",
       "      <td>{'type': 'Point', 'coordinates': [-122.405783,...</td>\n",
       "      <td>[37.773386, -122.414823]</td>\n",
       "      <td>1.235</td>\n",
       "    </tr>\n",
       "    <tr>\n",
       "      <th>23</th>\n",
       "      <td>{'type': 'Point', 'coordinates': [-122.405783,...</td>\n",
       "      <td>[37.773386, -122.414823]</td>\n",
       "      <td>1.235</td>\n",
       "    </tr>\n",
       "    <tr>\n",
       "      <th>35</th>\n",
       "      <td>{'type': 'Point', 'coordinates': [-122.405783,...</td>\n",
       "      <td>[37.773386, -122.414823]</td>\n",
       "      <td>1.235</td>\n",
       "    </tr>\n",
       "    <tr>\n",
       "      <th>37</th>\n",
       "      <td>{'type': 'Point', 'coordinates': [-122.408109,...</td>\n",
       "      <td>[37.78099, -122.419214]</td>\n",
       "      <td>1.244</td>\n",
       "    </tr>\n",
       "    <tr>\n",
       "      <th>50</th>\n",
       "      <td>{'type': 'Point', 'coordinates': [-122.39586, ...</td>\n",
       "      <td>[37.776344, -122.406468]</td>\n",
       "      <td>1.306</td>\n",
       "    </tr>\n",
       "    <tr>\n",
       "      <th>29</th>\n",
       "      <td>{'type': 'Point', 'coordinates': [-122.405783,...</td>\n",
       "      <td>[37.78099, -122.419214]</td>\n",
       "      <td>1.517</td>\n",
       "    </tr>\n",
       "    <tr>\n",
       "      <th>33</th>\n",
       "      <td>{'type': 'Point', 'coordinates': [-122.405783,...</td>\n",
       "      <td>[37.78099, -122.419214]</td>\n",
       "      <td>1.517</td>\n",
       "    </tr>\n",
       "    <tr>\n",
       "      <th>25</th>\n",
       "      <td>{'type': 'Point', 'coordinates': [-122.405783,...</td>\n",
       "      <td>[37.78099, -122.419214]</td>\n",
       "      <td>1.517</td>\n",
       "    </tr>\n",
       "    <tr>\n",
       "      <th>17</th>\n",
       "      <td>{'type': 'Point', 'coordinates': [-122.405783,...</td>\n",
       "      <td>[37.78099, -122.419214]</td>\n",
       "      <td>1.517</td>\n",
       "    </tr>\n",
       "    <tr>\n",
       "      <th>13</th>\n",
       "      <td>{'type': 'Point', 'coordinates': [-122.405783,...</td>\n",
       "      <td>[37.78099, -122.419214]</td>\n",
       "      <td>1.517</td>\n",
       "    </tr>\n",
       "    <tr>\n",
       "      <th>21</th>\n",
       "      <td>{'type': 'Point', 'coordinates': [-122.405783,...</td>\n",
       "      <td>[37.78099, -122.419214]</td>\n",
       "      <td>1.517</td>\n",
       "    </tr>\n",
       "    <tr>\n",
       "      <th>6</th>\n",
       "      <td>{'type': 'Point', 'coordinates': [-122.3921923...</td>\n",
       "      <td>[37.776344, -122.406468]</td>\n",
       "      <td>1.616</td>\n",
       "    </tr>\n",
       "    <tr>\n",
       "      <th>42</th>\n",
       "      <td>{'type': 'Point', 'coordinates': [-122.3920816...</td>\n",
       "      <td>[37.776344, -122.406468]</td>\n",
       "      <td>1.646</td>\n",
       "    </tr>\n",
       "    <tr>\n",
       "      <th>46</th>\n",
       "      <td>{'type': 'Point', 'coordinates': [-122.3920816...</td>\n",
       "      <td>[37.776344, -122.406468]</td>\n",
       "      <td>1.646</td>\n",
       "    </tr>\n",
       "    <tr>\n",
       "      <th>2</th>\n",
       "      <td>{'type': 'Point', 'coordinates': [-122.391276,...</td>\n",
       "      <td>[37.776344, -122.406468]</td>\n",
       "      <td>1.717</td>\n",
       "    </tr>\n",
       "    <tr>\n",
       "      <th>48</th>\n",
       "      <td>{'type': 'Point', 'coordinates': [-122.39586, ...</td>\n",
       "      <td>[37.779426, -122.411882]</td>\n",
       "      <td>1.821</td>\n",
       "    </tr>\n",
       "    <tr>\n",
       "      <th>4</th>\n",
       "      <td>{'type': 'Point', 'coordinates': [-122.3921923...</td>\n",
       "      <td>[37.779426, -122.411882]</td>\n",
       "      <td>2.192</td>\n",
       "    </tr>\n",
       "    <tr>\n",
       "      <th>44</th>\n",
       "      <td>{'type': 'Point', 'coordinates': [-122.3920816...</td>\n",
       "      <td>[37.779426, -122.411882]</td>\n",
       "      <td>2.211</td>\n",
       "    </tr>\n",
       "    <tr>\n",
       "      <th>40</th>\n",
       "      <td>{'type': 'Point', 'coordinates': [-122.3920816...</td>\n",
       "      <td>[37.779426, -122.411882]</td>\n",
       "      <td>2.211</td>\n",
       "    </tr>\n",
       "    <tr>\n",
       "      <th>51</th>\n",
       "      <td>{'type': 'Point', 'coordinates': [-122.39586, ...</td>\n",
       "      <td>[37.773386, -122.414823]</td>\n",
       "      <td>2.234</td>\n",
       "    </tr>\n",
       "    <tr>\n",
       "      <th>0</th>\n",
       "      <td>{'type': 'Point', 'coordinates': [-122.391276,...</td>\n",
       "      <td>[37.779426, -122.411882]</td>\n",
       "      <td>2.295</td>\n",
       "    </tr>\n",
       "    <tr>\n",
       "      <th>7</th>\n",
       "      <td>{'type': 'Point', 'coordinates': [-122.3921923...</td>\n",
       "      <td>[37.773386, -122.414823]</td>\n",
       "      <td>2.561</td>\n",
       "    </tr>\n",
       "    <tr>\n",
       "      <th>43</th>\n",
       "      <td>{'type': 'Point', 'coordinates': [-122.3920816...</td>\n",
       "      <td>[37.773386, -122.414823]</td>\n",
       "      <td>2.591</td>\n",
       "    </tr>\n",
       "    <tr>\n",
       "      <th>47</th>\n",
       "      <td>{'type': 'Point', 'coordinates': [-122.3920816...</td>\n",
       "      <td>[37.773386, -122.414823]</td>\n",
       "      <td>2.591</td>\n",
       "    </tr>\n",
       "    <tr>\n",
       "      <th>49</th>\n",
       "      <td>{'type': 'Point', 'coordinates': [-122.39586, ...</td>\n",
       "      <td>[37.78099, -122.419214]</td>\n",
       "      <td>2.612</td>\n",
       "    </tr>\n",
       "    <tr>\n",
       "      <th>3</th>\n",
       "      <td>{'type': 'Point', 'coordinates': [-122.391276,...</td>\n",
       "      <td>[37.773386, -122.414823]</td>\n",
       "      <td>2.663</td>\n",
       "    </tr>\n",
       "    <tr>\n",
       "      <th>5</th>\n",
       "      <td>{'type': 'Point', 'coordinates': [-122.3921923...</td>\n",
       "      <td>[37.78099, -122.419214]</td>\n",
       "      <td>3.005</td>\n",
       "    </tr>\n",
       "    <tr>\n",
       "      <th>45</th>\n",
       "      <td>{'type': 'Point', 'coordinates': [-122.3920816...</td>\n",
       "      <td>[37.78099, -122.419214]</td>\n",
       "      <td>3.019</td>\n",
       "    </tr>\n",
       "    <tr>\n",
       "      <th>41</th>\n",
       "      <td>{'type': 'Point', 'coordinates': [-122.3920816...</td>\n",
       "      <td>[37.78099, -122.419214]</td>\n",
       "      <td>3.019</td>\n",
       "    </tr>\n",
       "    <tr>\n",
       "      <th>1</th>\n",
       "      <td>{'type': 'Point', 'coordinates': [-122.391276,...</td>\n",
       "      <td>[37.78099, -122.419214]</td>\n",
       "      <td>3.107</td>\n",
       "    </tr>\n",
       "  </tbody>\n",
       "</table>\n",
       "</div>"
      ],
      "text/plain": [
       "                                               office  \\\n",
       "8   {'type': 'Point', 'coordinates': [-122.4097127...   \n",
       "38  {'type': 'Point', 'coordinates': [-122.408109,...   \n",
       "36  {'type': 'Point', 'coordinates': [-122.408109,...   \n",
       "10  {'type': 'Point', 'coordinates': [-122.4097127...   \n",
       "14  {'type': 'Point', 'coordinates': [-122.405783,...   \n",
       "26  {'type': 'Point', 'coordinates': [-122.405783,...   \n",
       "34  {'type': 'Point', 'coordinates': [-122.405783,...   \n",
       "22  {'type': 'Point', 'coordinates': [-122.405783,...   \n",
       "18  {'type': 'Point', 'coordinates': [-122.405783,...   \n",
       "30  {'type': 'Point', 'coordinates': [-122.405783,...   \n",
       "24  {'type': 'Point', 'coordinates': [-122.405783,...   \n",
       "16  {'type': 'Point', 'coordinates': [-122.405783,...   \n",
       "20  {'type': 'Point', 'coordinates': [-122.405783,...   \n",
       "32  {'type': 'Point', 'coordinates': [-122.405783,...   \n",
       "12  {'type': 'Point', 'coordinates': [-122.405783,...   \n",
       "28  {'type': 'Point', 'coordinates': [-122.405783,...   \n",
       "11  {'type': 'Point', 'coordinates': [-122.4097127...   \n",
       "39  {'type': 'Point', 'coordinates': [-122.408109,...   \n",
       "9   {'type': 'Point', 'coordinates': [-122.4097127...   \n",
       "31  {'type': 'Point', 'coordinates': [-122.405783,...   \n",
       "27  {'type': 'Point', 'coordinates': [-122.405783,...   \n",
       "15  {'type': 'Point', 'coordinates': [-122.405783,...   \n",
       "19  {'type': 'Point', 'coordinates': [-122.405783,...   \n",
       "23  {'type': 'Point', 'coordinates': [-122.405783,...   \n",
       "35  {'type': 'Point', 'coordinates': [-122.405783,...   \n",
       "37  {'type': 'Point', 'coordinates': [-122.408109,...   \n",
       "50  {'type': 'Point', 'coordinates': [-122.39586, ...   \n",
       "29  {'type': 'Point', 'coordinates': [-122.405783,...   \n",
       "33  {'type': 'Point', 'coordinates': [-122.405783,...   \n",
       "25  {'type': 'Point', 'coordinates': [-122.405783,...   \n",
       "17  {'type': 'Point', 'coordinates': [-122.405783,...   \n",
       "13  {'type': 'Point', 'coordinates': [-122.405783,...   \n",
       "21  {'type': 'Point', 'coordinates': [-122.405783,...   \n",
       "6   {'type': 'Point', 'coordinates': [-122.3921923...   \n",
       "42  {'type': 'Point', 'coordinates': [-122.3920816...   \n",
       "46  {'type': 'Point', 'coordinates': [-122.3920816...   \n",
       "2   {'type': 'Point', 'coordinates': [-122.391276,...   \n",
       "48  {'type': 'Point', 'coordinates': [-122.39586, ...   \n",
       "4   {'type': 'Point', 'coordinates': [-122.3921923...   \n",
       "44  {'type': 'Point', 'coordinates': [-122.3920816...   \n",
       "40  {'type': 'Point', 'coordinates': [-122.3920816...   \n",
       "51  {'type': 'Point', 'coordinates': [-122.39586, ...   \n",
       "0   {'type': 'Point', 'coordinates': [-122.391276,...   \n",
       "7   {'type': 'Point', 'coordinates': [-122.3921923...   \n",
       "43  {'type': 'Point', 'coordinates': [-122.3920816...   \n",
       "47  {'type': 'Point', 'coordinates': [-122.3920816...   \n",
       "49  {'type': 'Point', 'coordinates': [-122.39586, ...   \n",
       "3   {'type': 'Point', 'coordinates': [-122.391276,...   \n",
       "5   {'type': 'Point', 'coordinates': [-122.3921923...   \n",
       "45  {'type': 'Point', 'coordinates': [-122.3920816...   \n",
       "41  {'type': 'Point', 'coordinates': [-122.3920816...   \n",
       "1   {'type': 'Point', 'coordinates': [-122.391276,...   \n",
       "\n",
       "                      school  distance  \n",
       "8   [37.779426, -122.411882]     0.287  \n",
       "38  [37.776344, -122.406468]     0.465  \n",
       "36  [37.779426, -122.411882]     0.485  \n",
       "10  [37.776344, -122.406468]     0.496  \n",
       "14  [37.776344, -122.406468]     0.547  \n",
       "26  [37.776344, -122.406468]     0.547  \n",
       "34  [37.776344, -122.406468]     0.547  \n",
       "22  [37.776344, -122.406468]     0.547  \n",
       "18  [37.776344, -122.406468]     0.547  \n",
       "30  [37.776344, -122.406468]     0.547  \n",
       "24  [37.779426, -122.411882]     0.767  \n",
       "16  [37.779426, -122.411882]     0.767  \n",
       "20  [37.779426, -122.411882]     0.767  \n",
       "32  [37.779426, -122.411882]     0.767  \n",
       "12  [37.779426, -122.411882]     0.767  \n",
       "28  [37.779426, -122.411882]     0.767  \n",
       "11  [37.773386, -122.414823]     0.768  \n",
       "39  [37.773386, -122.414823]     0.960  \n",
       "9    [37.78099, -122.419214]     1.058  \n",
       "31  [37.773386, -122.414823]     1.235  \n",
       "27  [37.773386, -122.414823]     1.235  \n",
       "15  [37.773386, -122.414823]     1.235  \n",
       "19  [37.773386, -122.414823]     1.235  \n",
       "23  [37.773386, -122.414823]     1.235  \n",
       "35  [37.773386, -122.414823]     1.235  \n",
       "37   [37.78099, -122.419214]     1.244  \n",
       "50  [37.776344, -122.406468]     1.306  \n",
       "29   [37.78099, -122.419214]     1.517  \n",
       "33   [37.78099, -122.419214]     1.517  \n",
       "25   [37.78099, -122.419214]     1.517  \n",
       "17   [37.78099, -122.419214]     1.517  \n",
       "13   [37.78099, -122.419214]     1.517  \n",
       "21   [37.78099, -122.419214]     1.517  \n",
       "6   [37.776344, -122.406468]     1.616  \n",
       "42  [37.776344, -122.406468]     1.646  \n",
       "46  [37.776344, -122.406468]     1.646  \n",
       "2   [37.776344, -122.406468]     1.717  \n",
       "48  [37.779426, -122.411882]     1.821  \n",
       "4   [37.779426, -122.411882]     2.192  \n",
       "44  [37.779426, -122.411882]     2.211  \n",
       "40  [37.779426, -122.411882]     2.211  \n",
       "51  [37.773386, -122.414823]     2.234  \n",
       "0   [37.779426, -122.411882]     2.295  \n",
       "7   [37.773386, -122.414823]     2.561  \n",
       "43  [37.773386, -122.414823]     2.591  \n",
       "47  [37.773386, -122.414823]     2.591  \n",
       "49   [37.78099, -122.419214]     2.612  \n",
       "3   [37.773386, -122.414823]     2.663  \n",
       "5    [37.78099, -122.419214]     3.005  \n",
       "45   [37.78099, -122.419214]     3.019  \n",
       "41   [37.78099, -122.419214]     3.019  \n",
       "1    [37.78099, -122.419214]     3.107  "
      ]
     },
     "execution_count": 130,
     "metadata": {},
     "output_type": "execute_result"
    }
   ],
   "source": [
    "school_distances = [{\"office\":j, \"school\":i, \"distance\": distances(i, [j[\"coordinates\"][1],j[\"coordinates\"][0]])} for j in list_offices for i in school_coordinates]\n",
    "df_school_distance = pd.DataFrame(school_distances).sort_values(by = \"distance\", ascending = True)\n",
    "df_school_distance"
   ]
  },
  {
   "cell_type": "code",
   "execution_count": 131,
   "id": "a0309f63",
   "metadata": {},
   "outputs": [
    {
     "data": {
      "text/plain": [
       "office\n",
       "{'type': 'Point', 'coordinates': [-122.4097127, 37.78205]}    2\n",
       "{'type': 'Point', 'coordinates': [-122.408109, 37.783521]}    2\n",
       "Name: count, dtype: int64"
      ]
     },
     "execution_count": 131,
     "metadata": {},
     "output_type": "execute_result"
    }
   ],
   "source": [
    "df_school_distance[df_school_distance[\"distance\"] <= 0.5][\"office\"].value_counts()"
   ]
  },
  {
   "cell_type": "code",
   "execution_count": 132,
   "id": "83edbe70",
   "metadata": {},
   "outputs": [],
   "source": [
    "x = pd.DataFrame(df_school_distance[df_school_distance[\"distance\"] <= 0.5][\"office\"].value_counts())\n",
    "x.reset_index(inplace=True)"
   ]
  },
  {
   "cell_type": "code",
   "execution_count": 133,
   "id": "0d8535f3",
   "metadata": {
    "scrolled": true
   },
   "outputs": [
    {
     "data": {
      "text/plain": [
       "[{'type': 'Point', 'coordinates': [-122.4097127, 37.78205]},\n",
       " {'type': 'Point', 'coordinates': [-122.408109, 37.783521]}]"
      ]
     },
     "execution_count": 133,
     "metadata": {},
     "output_type": "execute_result"
    }
   ],
   "source": [
    "list_offices_updated = [row[\"office\"] for index, row in x.iterrows()]\n",
    "list_offices_updated"
   ]
  },
  {
   "cell_type": "markdown",
   "id": "2a1f7567",
   "metadata": {},
   "source": [
    "## Priority 2: design company"
   ]
  },
  {
   "cell_type": "code",
   "execution_count": 144,
   "id": "e6d07ac8",
   "metadata": {},
   "outputs": [],
   "source": [
    "designSF_coordinates = [{'offices': [{'latitude': 37.764726, 'longitude': -122.394523}]}]\n",
    "designSF_latlon = [designSF_coordinates[0][\"offices\"][0][\"latitude\"], designSF_coordinates[0][\"offices\"][0][\"longitude\"]]"
   ]
  },
  {
   "cell_type": "code",
   "execution_count": 151,
   "id": "29d956ef",
   "metadata": {},
   "outputs": [],
   "source": [
    "design_distance = [{\"office\":i, \"distance\": distances(designSF_latlon, [i[\"coordinates\"][1],i[\"coordinates\"][0]])} for i in list_offices_updated]\n",
    "design_distance\n",
    "df_design_distance = pd.DataFrame(design_distance).sort_values(by = \"distance\", ascending = True)"
   ]
  },
  {
   "cell_type": "code",
   "execution_count": 152,
   "id": "2bf528a5",
   "metadata": {},
   "outputs": [
    {
     "data": {
      "text/html": [
       "<div>\n",
       "<style scoped>\n",
       "    .dataframe tbody tr th:only-of-type {\n",
       "        vertical-align: middle;\n",
       "    }\n",
       "\n",
       "    .dataframe tbody tr th {\n",
       "        vertical-align: top;\n",
       "    }\n",
       "\n",
       "    .dataframe thead th {\n",
       "        text-align: right;\n",
       "    }\n",
       "</style>\n",
       "<table border=\"1\" class=\"dataframe\">\n",
       "  <thead>\n",
       "    <tr style=\"text-align: right;\">\n",
       "      <th></th>\n",
       "      <th>office</th>\n",
       "      <th>distance</th>\n",
       "    </tr>\n",
       "  </thead>\n",
       "  <tbody>\n",
       "    <tr>\n",
       "      <th>1</th>\n",
       "      <td>{'type': 'Point', 'coordinates': [-122.408109,...</td>\n",
       "      <td>1.881</td>\n",
       "    </tr>\n",
       "  </tbody>\n",
       "</table>\n",
       "</div>"
      ],
      "text/plain": [
       "                                              office  distance\n",
       "1  {'type': 'Point', 'coordinates': [-122.408109,...     1.881"
      ]
     },
     "execution_count": 152,
     "metadata": {},
     "output_type": "execute_result"
    }
   ],
   "source": [
    "df_design_distance = df_design_distance.head(1)\n",
    "df_design_distance"
   ]
  },
  {
   "cell_type": "markdown",
   "id": "3117cdae",
   "metadata": {},
   "source": [
    "# Final office:"
   ]
  },
  {
   "cell_type": "code",
   "execution_count": 137,
   "id": "eac2c9b7",
   "metadata": {},
   "outputs": [
    {
     "name": "stdout",
     "output_type": "stream",
     "text": [
      "{'type': 'Point', 'coordinates': [-122.408109, 37.783521]}\n"
     ]
    }
   ],
   "source": [
    "for index, row in df_design_distance.iterrows():\n",
    "    print(row[\"office\"])"
   ]
  },
  {
   "cell_type": "code",
   "execution_count": 138,
   "id": "6357aa36",
   "metadata": {},
   "outputs": [
    {
     "data": {
      "text/plain": [
       "[-122.408109, 37.783521]"
      ]
     },
     "execution_count": 138,
     "metadata": {},
     "output_type": "execute_result"
    }
   ],
   "source": [
    "coordinates = [row[\"office\"] for index, row in df_design_distance.iterrows()][0][\"coordinates\"]\n",
    "coordinates"
   ]
  },
  {
   "cell_type": "code",
   "execution_count": 139,
   "id": "2ab00111",
   "metadata": {
    "scrolled": false
   },
   "outputs": [
    {
     "data": {
      "text/html": [
       "<div>\n",
       "<style scoped>\n",
       "    .dataframe tbody tr th:only-of-type {\n",
       "        vertical-align: middle;\n",
       "    }\n",
       "\n",
       "    .dataframe tbody tr th {\n",
       "        vertical-align: top;\n",
       "    }\n",
       "\n",
       "    .dataframe thead th {\n",
       "        text-align: right;\n",
       "    }\n",
       "</style>\n",
       "<table border=\"1\" class=\"dataframe\">\n",
       "  <thead>\n",
       "    <tr style=\"text-align: right;\">\n",
       "      <th></th>\n",
       "      <th>employees</th>\n",
       "      <th>lat</th>\n",
       "      <th>lon</th>\n",
       "      <th>address</th>\n",
       "      <th>positions</th>\n",
       "    </tr>\n",
       "  </thead>\n",
       "  <tbody>\n",
       "    <tr>\n",
       "      <th>143</th>\n",
       "      <td>112</td>\n",
       "      <td>37.783521</td>\n",
       "      <td>-122.408109</td>\n",
       "      <td>901 Market Street</td>\n",
       "      <td>[-122.408109, 37.783521]</td>\n",
       "    </tr>\n",
       "  </tbody>\n",
       "</table>\n",
       "</div>"
      ],
      "text/plain": [
       "     employees        lat         lon            address  \\\n",
       "143        112  37.783521 -122.408109  901 Market Street   \n",
       "\n",
       "                    positions  \n",
       "143  [-122.408109, 37.783521]  "
      ]
     },
     "execution_count": 139,
     "metadata": {},
     "output_type": "execute_result"
    }
   ],
   "source": [
    "rents = pd.read_csv(\"../data/officesSF.csv\", encoding = \"unicode_escape\")\n",
    "rents[rents[\"positions\"]== str(coordinates)]"
   ]
  },
  {
   "cell_type": "code",
   "execution_count": 140,
   "id": "bb2e6be7",
   "metadata": {},
   "outputs": [
    {
     "data": {
      "text/html": [
       "<div>\n",
       "<style scoped>\n",
       "    .dataframe tbody tr th:only-of-type {\n",
       "        vertical-align: middle;\n",
       "    }\n",
       "\n",
       "    .dataframe tbody tr th {\n",
       "        vertical-align: top;\n",
       "    }\n",
       "\n",
       "    .dataframe thead th {\n",
       "        text-align: right;\n",
       "    }\n",
       "</style>\n",
       "<table border=\"1\" class=\"dataframe\">\n",
       "  <thead>\n",
       "    <tr style=\"text-align: right;\">\n",
       "      <th></th>\n",
       "      <th>office</th>\n",
       "      <th>school</th>\n",
       "      <th>distance</th>\n",
       "    </tr>\n",
       "  </thead>\n",
       "  <tbody>\n",
       "    <tr>\n",
       "      <th>38</th>\n",
       "      <td>{'type': 'Point', 'coordinates': [-122.408109,...</td>\n",
       "      <td>[37.776344, -122.406468]</td>\n",
       "      <td>0.465</td>\n",
       "    </tr>\n",
       "  </tbody>\n",
       "</table>\n",
       "</div>"
      ],
      "text/plain": [
       "                                               office  \\\n",
       "38  {'type': 'Point', 'coordinates': [-122.408109,...   \n",
       "\n",
       "                      school  distance  \n",
       "38  [37.776344, -122.406468]     0.465  "
      ]
     },
     "execution_count": 140,
     "metadata": {},
     "output_type": "execute_result"
    }
   ],
   "source": [
    "# The school closer to the office would be:\n",
    "final_school = df_school_distance[df_school_distance[\"office\"] == [row[\"office\"] for index, rows in df_design_distance.iterrows()][0]].sort_values(by = \"distance\", ascending = True).head(1)\n",
    "final_school"
   ]
  },
  {
   "cell_type": "code",
   "execution_count": 141,
   "id": "87dd8198",
   "metadata": {},
   "outputs": [
    {
     "data": {
      "text/plain": [
       "[37.776344, -122.406468]"
      ]
     },
     "execution_count": 141,
     "metadata": {},
     "output_type": "execute_result"
    }
   ],
   "source": [
    "coordinates_school = [row[\"school\"] for index, row in final_school.iterrows()][0]\n",
    "coordinates_school"
   ]
  },
  {
   "cell_type": "code",
   "execution_count": 142,
   "id": "ac24ed37",
   "metadata": {},
   "outputs": [
    {
     "data": {
      "text/html": [
       "<div>\n",
       "<style scoped>\n",
       "    .dataframe tbody tr th:only-of-type {\n",
       "        vertical-align: middle;\n",
       "    }\n",
       "\n",
       "    .dataframe tbody tr th {\n",
       "        vertical-align: top;\n",
       "    }\n",
       "\n",
       "    .dataframe thead th {\n",
       "        text-align: right;\n",
       "    }\n",
       "</style>\n",
       "<table border=\"1\" class=\"dataframe\">\n",
       "  <thead>\n",
       "    <tr style=\"text-align: right;\">\n",
       "      <th></th>\n",
       "      <th>school_name</th>\n",
       "      <th>school_categ</th>\n",
       "      <th>school_lat</th>\n",
       "      <th>school_lon</th>\n",
       "    </tr>\n",
       "  </thead>\n",
       "  <tbody>\n",
       "    <tr>\n",
       "      <th>6</th>\n",
       "      <td>Bessie Carmichael Elementary School</td>\n",
       "      <td>Elementary School</td>\n",
       "      <td>37.776344</td>\n",
       "      <td>-122.406468</td>\n",
       "    </tr>\n",
       "  </tbody>\n",
       "</table>\n",
       "</div>"
      ],
      "text/plain": [
       "                           school_name       school_categ  school_lat  \\\n",
       "6  Bessie Carmichael Elementary School  Elementary School   37.776344   \n",
       "\n",
       "   school_lon  \n",
       "6 -122.406468  "
      ]
     },
     "execution_count": 142,
     "metadata": {},
     "output_type": "execute_result"
    }
   ],
   "source": [
    "df_schools[df_schools[\"school_lat\"] == coordinates_school[0]]"
   ]
  }
 ],
 "metadata": {
  "kernelspec": {
   "display_name": "ironhack",
   "language": "python",
   "name": "ironhack"
  },
  "language_info": {
   "codemirror_mode": {
    "name": "ipython",
    "version": 3
   },
   "file_extension": ".py",
   "mimetype": "text/x-python",
   "name": "python",
   "nbconvert_exporter": "python",
   "pygments_lexer": "ipython3",
   "version": "3.11.5"
  }
 },
 "nbformat": 4,
 "nbformat_minor": 5
}
