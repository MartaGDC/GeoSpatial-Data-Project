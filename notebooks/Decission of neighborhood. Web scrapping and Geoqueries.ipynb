{
 "cells": [
  {
   "cell_type": "markdown",
   "id": "20ac6b34",
   "metadata": {},
   "source": [
    "# Libraries"
   ]
  },
  {
   "cell_type": "code",
   "execution_count": 1,
   "id": "b3c5fcd5",
   "metadata": {},
   "outputs": [],
   "source": [
    "import pandas as pd\n",
    "import requests\n",
    "from bs4 import BeautifulSoup\n",
    "import json\n",
    "import os\n",
    "from pymongo import MongoClient"
   ]
  },
  {
   "cell_type": "markdown",
   "id": "2b8a510b",
   "metadata": {},
   "source": [
    "# San Francisco rental estate for offices and coworking places"
   ]
  },
  {
   "cell_type": "markdown",
   "id": "a4950c3b",
   "metadata": {},
   "source": [
    "## Offices"
   ]
  },
  {
   "cell_type": "code",
   "execution_count": 2,
   "id": "41200e9d",
   "metadata": {},
   "outputs": [],
   "source": [
    "# 100 places for 87 employees or more, and not more than 120:\n",
    "urls = [f\"https://www.squarefoot.com/office-space/m/ca/san_francisco/1aee3919-edd5-4fad-b301-76f335aae568?minOccupancy=87&maxOccupancy=120&page={i}&activeSizeFilter=SEATS&groupByBuilding=false\" for i in range(1,5)]"
   ]
  },
  {
   "cell_type": "code",
   "execution_count": 3,
   "id": "664fc60d",
   "metadata": {},
   "outputs": [],
   "source": [
    "# url prueba\n",
    "url = \"https://www.squarefoot.com/office-space/m/ca/san_francisco/1aee3919-edd5-4fad-b301-76f335aae568?minOccupancy=87&maxOccupancy=120&&activeSizeFilter=SEATS&groupByBuilding=false\""
   ]
  },
  {
   "cell_type": "code",
   "execution_count": 4,
   "id": "71d09166",
   "metadata": {
    "scrolled": true
   },
   "outputs": [],
   "source": [
    "res = requests.get(url)\n",
    "html = res.content\n",
    "soup = BeautifulSoup(html, 'html.parser')"
   ]
  },
  {
   "cell_type": "code",
   "execution_count": 5,
   "id": "b0051da9",
   "metadata": {
    "scrolled": true
   },
   "outputs": [],
   "source": [
    "body = soup.find_all(\"script\", {\"id\": \"__NEXT_DATA__\"})\n",
    "info = body[0].getText(\"application/json\")\n",
    "json = json.loads(info)"
   ]
  },
  {
   "cell_type": "code",
   "execution_count": 6,
   "id": "e7a5a574",
   "metadata": {},
   "outputs": [
    {
     "name": "stdout",
     "output_type": "stream",
     "text": [
      "[0, 0, 0, 0, 0, 0, 0, 0, 0, 0, 0, 0, 0, 0, 0, 0, 0, 0, 0, 0, 0, 0, 0, 0]\n"
     ]
    }
   ],
   "source": [
    "# No place has publicly the prices for offices for 87 employees or more\n",
    "prices = [i[\"accurateMonthlyPrice\"] for i in json[\"props\"][\"pageProps\"][\"queryManager\"][\"values\"][\"listings\"]]\n",
    "print(prices)"
   ]
  },
  {
   "cell_type": "code",
   "execution_count": 7,
   "id": "797f31e2",
   "metadata": {},
   "outputs": [
    {
     "name": "stdout",
     "output_type": "stream",
     "text": [
      "[93, 87, 103, 114, 92, 99, 119, 93, 119, 119, 115, 119, 104, 100, 107, 105, 107, 91, 99, 117, 108, 104, 94, 117]\n"
     ]
    }
   ],
   "source": [
    "# number_employees\n",
    "number_employees = [i[\"estimatedMaxOccupancy\"] for i in json[\"props\"][\"pageProps\"][\"queryManager\"][\"values\"][\"listings\"]]\n",
    "print(number_employees)"
   ]
  },
  {
   "cell_type": "code",
   "execution_count": 8,
   "id": "f5fe19b9",
   "metadata": {},
   "outputs": [],
   "source": [
    "lat = [i[\"building\"][\"lat\"] for i in json[\"props\"][\"pageProps\"][\"queryManager\"][\"values\"][\"listings\"]]\n",
    "lon = [i[\"building\"][\"lng\"] for i in json[\"props\"][\"pageProps\"][\"queryManager\"][\"values\"][\"listings\"]]"
   ]
  },
  {
   "cell_type": "code",
   "execution_count": 3,
   "id": "1a104f35",
   "metadata": {},
   "outputs": [],
   "source": [
    "#Functions\n",
    "def getJson(url):\n",
    "    res = requests.get(url)\n",
    "    html = res.content\n",
    "    soup = BeautifulSoup(html, 'html.parser')\n",
    "    body = soup.find_all(\"script\", {\"id\": \"__NEXT_DATA__\"})\n",
    "    info = body[0].getText(\"application/json\")\n",
    "    js = json.loads(info)\n",
    "    return js\n",
    "\n",
    "def getEmployees(js):\n",
    "    return [i[\"estimatedMaxOccupancy\"] for i in js[\"props\"][\"pageProps\"][\"queryManager\"][\"values\"][\"listings\"]]\n",
    "def getLat(js):\n",
    "    return [i[\"building\"][\"lat\"] for i in js[\"props\"][\"pageProps\"][\"queryManager\"][\"values\"][\"listings\"]]\n",
    "def getLon(js):\n",
    "    return [i[\"building\"][\"lng\"] for i in js[\"props\"][\"pageProps\"][\"queryManager\"][\"values\"][\"listings\"]]"
   ]
  },
  {
   "cell_type": "code",
   "execution_count": 4,
   "id": "679826a9",
   "metadata": {},
   "outputs": [],
   "source": [
    "def getDict(urls):\n",
    "    employees = []\n",
    "    lat = []\n",
    "    lon = []\n",
    "    for i in urls:\n",
    "        jsons = getJson(i)\n",
    "        employees.extend(getEmployees(jsons))\n",
    "        lat.extend(getLat(jsons))\n",
    "        lon.extend(getLon(jsons))\n",
    "    dict_ = {\n",
    "        \"employees\": employees,\n",
    "        \"lat\": lat,\n",
    "        \"lon\": lon\n",
    "    }\n",
    "        \n",
    "    return dict_"
   ]
  },
  {
   "cell_type": "code",
   "execution_count": 5,
   "id": "ae366e80",
   "metadata": {},
   "outputs": [],
   "source": [
    "dict_rents = getDict(urls)"
   ]
  },
  {
   "cell_type": "code",
   "execution_count": 6,
   "id": "8b9d0ddf",
   "metadata": {},
   "outputs": [],
   "source": [
    "rents = pd.DataFrame(dict_rents)\n",
    "rents.sort_values(by = \"employees\", ascending = True, inplace=True)\n",
    "#Here are the coordinates of every office of interest from smaller to bigger"
   ]
  },
  {
   "cell_type": "code",
   "execution_count": 7,
   "id": "ac3501dc",
   "metadata": {},
   "outputs": [
    {
     "data": {
      "text/html": [
       "<div>\n",
       "<style scoped>\n",
       "    .dataframe tbody tr th:only-of-type {\n",
       "        vertical-align: middle;\n",
       "    }\n",
       "\n",
       "    .dataframe tbody tr th {\n",
       "        vertical-align: top;\n",
       "    }\n",
       "\n",
       "    .dataframe thead th {\n",
       "        text-align: right;\n",
       "    }\n",
       "</style>\n",
       "<table border=\"1\" class=\"dataframe\">\n",
       "  <thead>\n",
       "    <tr style=\"text-align: right;\">\n",
       "      <th></th>\n",
       "      <th>employees</th>\n",
       "      <th>lat</th>\n",
       "      <th>lon</th>\n",
       "    </tr>\n",
       "  </thead>\n",
       "  <tbody>\n",
       "    <tr>\n",
       "      <th>1</th>\n",
       "      <td>87</td>\n",
       "      <td>37.784463</td>\n",
       "      <td>-122.242628</td>\n",
       "    </tr>\n",
       "    <tr>\n",
       "      <th>85</th>\n",
       "      <td>88</td>\n",
       "      <td>37.766039</td>\n",
       "      <td>-122.393089</td>\n",
       "    </tr>\n",
       "    <tr>\n",
       "      <th>60</th>\n",
       "      <td>90</td>\n",
       "      <td>37.723888</td>\n",
       "      <td>-122.236083</td>\n",
       "    </tr>\n",
       "    <tr>\n",
       "      <th>34</th>\n",
       "      <td>91</td>\n",
       "      <td>37.793076</td>\n",
       "      <td>-122.399608</td>\n",
       "    </tr>\n",
       "    <tr>\n",
       "      <th>36</th>\n",
       "      <td>91</td>\n",
       "      <td>37.793076</td>\n",
       "      <td>-122.399608</td>\n",
       "    </tr>\n",
       "    <tr>\n",
       "      <th>...</th>\n",
       "      <td>...</td>\n",
       "      <td>...</td>\n",
       "      <td>...</td>\n",
       "    </tr>\n",
       "    <tr>\n",
       "      <th>84</th>\n",
       "      <td>119</td>\n",
       "      <td>37.790913</td>\n",
       "      <td>-122.396728</td>\n",
       "    </tr>\n",
       "    <tr>\n",
       "      <th>83</th>\n",
       "      <td>119</td>\n",
       "      <td>37.790913</td>\n",
       "      <td>-122.396728</td>\n",
       "    </tr>\n",
       "    <tr>\n",
       "      <th>9</th>\n",
       "      <td>119</td>\n",
       "      <td>37.795014</td>\n",
       "      <td>-122.399435</td>\n",
       "    </tr>\n",
       "    <tr>\n",
       "      <th>94</th>\n",
       "      <td>119</td>\n",
       "      <td>37.790913</td>\n",
       "      <td>-122.396728</td>\n",
       "    </tr>\n",
       "    <tr>\n",
       "      <th>11</th>\n",
       "      <td>119</td>\n",
       "      <td>37.789890</td>\n",
       "      <td>-122.399930</td>\n",
       "    </tr>\n",
       "  </tbody>\n",
       "</table>\n",
       "<p>96 rows × 3 columns</p>\n",
       "</div>"
      ],
      "text/plain": [
       "    employees        lat         lon\n",
       "1          87  37.784463 -122.242628\n",
       "85         88  37.766039 -122.393089\n",
       "60         90  37.723888 -122.236083\n",
       "34         91  37.793076 -122.399608\n",
       "36         91  37.793076 -122.399608\n",
       "..        ...        ...         ...\n",
       "84        119  37.790913 -122.396728\n",
       "83        119  37.790913 -122.396728\n",
       "9         119  37.795014 -122.399435\n",
       "94        119  37.790913 -122.396728\n",
       "11        119  37.789890 -122.399930\n",
       "\n",
       "[96 rows x 3 columns]"
      ]
     },
     "execution_count": 7,
     "metadata": {},
     "output_type": "execute_result"
    }
   ],
   "source": [
    "rents"
   ]
  },
  {
   "cell_type": "markdown",
   "id": "4a37c1f2",
   "metadata": {},
   "source": [
    "## Neighborhoods"
   ]
  },
  {
   "cell_type": "code",
   "execution_count": null,
   "id": "8cb72bd4",
   "metadata": {},
   "outputs": [],
   "source": [
    "url = \"https://www.squarefoot.com/office-space/m/ca/san_francisco/1aee3919-edd5-4fad-b301-76f335aae568?minOccupancy=87&maxOccupancy=120&&activeSizeFilter=SEATS&groupByBuilding=false\"\n",
    "res = requests.get(url)\n",
    "html = res.content\n",
    "soup = BeautifulSoup(html, 'html.parser')\n",
    "body = soup.find_all(\"script\", {\"id\": \"__NEXT_DATA__\"})\n",
    "info = body[0].getText(\"application/json\")\n",
    "json = json.loads(info)"
   ]
  },
  {
   "cell_type": "code",
   "execution_count": 9,
   "id": "b15465d2",
   "metadata": {},
   "outputs": [],
   "source": [
    "neighborhoods = json[\"props\"][\"pageProps\"][\"queryManager\"][\"values\"][\"submarkets\"][0][\"neighborhoods\"]\n",
    "#Some of these neighbourhoods aren't in San Francisco, but in the Bay Area"
   ]
  },
  {
   "cell_type": "code",
   "execution_count": 10,
   "id": "79e3ca55",
   "metadata": {},
   "outputs": [
    {
     "data": {
      "text/html": [
       "<div>\n",
       "<style scoped>\n",
       "    .dataframe tbody tr th:only-of-type {\n",
       "        vertical-align: middle;\n",
       "    }\n",
       "\n",
       "    .dataframe tbody tr th {\n",
       "        vertical-align: top;\n",
       "    }\n",
       "\n",
       "    .dataframe thead th {\n",
       "        text-align: right;\n",
       "    }\n",
       "</style>\n",
       "<table border=\"1\" class=\"dataframe\">\n",
       "  <thead>\n",
       "    <tr style=\"text-align: right;\">\n",
       "      <th></th>\n",
       "      <th>name</th>\n",
       "      <th>geojson</th>\n",
       "    </tr>\n",
       "  </thead>\n",
       "  <tbody>\n",
       "    <tr>\n",
       "      <th>0</th>\n",
       "      <td>28 Palms</td>\n",
       "      <td>{'type': 'Polygon', 'coordinates': [[[-121.987...</td>\n",
       "    </tr>\n",
       "    <tr>\n",
       "      <th>1</th>\n",
       "      <td>Acorn-Acorn Industrial</td>\n",
       "      <td>{'type': 'Polygon', 'coordinates': [[[-122.342...</td>\n",
       "    </tr>\n",
       "    <tr>\n",
       "      <th>2</th>\n",
       "      <td>Adams Point</td>\n",
       "      <td>{'type': 'Polygon', 'coordinates': [[[-122.262...</td>\n",
       "    </tr>\n",
       "    <tr>\n",
       "      <th>3</th>\n",
       "      <td>Alameda</td>\n",
       "      <td>{'type': 'Polygon', 'coordinates': [[[-122.237...</td>\n",
       "    </tr>\n",
       "    <tr>\n",
       "      <th>4</th>\n",
       "      <td>Allendale</td>\n",
       "      <td>{'type': 'Polygon', 'coordinates': [[[-122.210...</td>\n",
       "    </tr>\n",
       "    <tr>\n",
       "      <th>...</th>\n",
       "      <td>...</td>\n",
       "      <td>...</td>\n",
       "    </tr>\n",
       "    <tr>\n",
       "      <th>272</th>\n",
       "      <td>West San Jose</td>\n",
       "      <td>{'type': 'Polygon', 'coordinates': [[[-122.003...</td>\n",
       "    </tr>\n",
       "    <tr>\n",
       "      <th>273</th>\n",
       "      <td>Whitman-Mocine</td>\n",
       "      <td>{'type': 'Polygon', 'coordinates': [[[-122.066...</td>\n",
       "    </tr>\n",
       "    <tr>\n",
       "      <th>274</th>\n",
       "      <td>Willow Glen</td>\n",
       "      <td>{'type': 'Polygon', 'coordinates': [[[-121.887...</td>\n",
       "    </tr>\n",
       "    <tr>\n",
       "      <th>275</th>\n",
       "      <td>Woodland</td>\n",
       "      <td>{'type': 'Polygon', 'coordinates': [[[-122.194...</td>\n",
       "    </tr>\n",
       "    <tr>\n",
       "      <th>276</th>\n",
       "      <td>Woodminster</td>\n",
       "      <td>{'type': 'Polygon', 'coordinates': [[[-122.197...</td>\n",
       "    </tr>\n",
       "  </tbody>\n",
       "</table>\n",
       "<p>277 rows × 2 columns</p>\n",
       "</div>"
      ],
      "text/plain": [
       "                       name                                            geojson\n",
       "0                  28 Palms  {'type': 'Polygon', 'coordinates': [[[-121.987...\n",
       "1    Acorn-Acorn Industrial  {'type': 'Polygon', 'coordinates': [[[-122.342...\n",
       "2               Adams Point  {'type': 'Polygon', 'coordinates': [[[-122.262...\n",
       "3                   Alameda  {'type': 'Polygon', 'coordinates': [[[-122.237...\n",
       "4                 Allendale  {'type': 'Polygon', 'coordinates': [[[-122.210...\n",
       "..                      ...                                                ...\n",
       "272           West San Jose  {'type': 'Polygon', 'coordinates': [[[-122.003...\n",
       "273          Whitman-Mocine  {'type': 'Polygon', 'coordinates': [[[-122.066...\n",
       "274             Willow Glen  {'type': 'Polygon', 'coordinates': [[[-121.887...\n",
       "275                Woodland  {'type': 'Polygon', 'coordinates': [[[-122.194...\n",
       "276             Woodminster  {'type': 'Polygon', 'coordinates': [[[-122.197...\n",
       "\n",
       "[277 rows x 2 columns]"
      ]
     },
     "execution_count": 10,
     "metadata": {},
     "output_type": "execute_result"
    }
   ],
   "source": [
    "name = [i[\"name\"] for i in neighborhoods]\n",
    "geojson = [i[\"geojson\"] for i in neighborhoods]\n",
    "dict_neigh = {\n",
    "    \"name\": name,\n",
    "    \"geojson\": geojson\n",
    "}\n",
    "pd.DataFrame(dict_neigh)"
   ]
  },
  {
   "cell_type": "code",
   "execution_count": 11,
   "id": "56e8f270",
   "metadata": {},
   "outputs": [],
   "source": [
    "# Save polygones in mongoDB -> create a list of dictionaries\n",
    "dict_neigh_rows = []\n",
    "for index, row in pd.DataFrame(dict_neigh).iterrows():\n",
    "    dict_neigh_rows.append({\"name\":row[\"name\"], \"geojson\":row[\"geojson\"]})"
   ]
  },
  {
   "cell_type": "markdown",
   "id": "9d88369b",
   "metadata": {},
   "source": [
    "## Where are most of the offices located"
   ]
  },
  {
   "cell_type": "code",
   "execution_count": 12,
   "id": "078492f0",
   "metadata": {
    "scrolled": true
   },
   "outputs": [],
   "source": [
    "# coordinates of neighborhoods in dict_neigh[\"geojson\"]\n",
    "client = MongoClient(\"localhost:27017\")\n",
    "db = client.get_database(\"Ironhack\")"
   ]
  },
  {
   "cell_type": "code",
   "execution_count": 13,
   "id": "98a4b063",
   "metadata": {},
   "outputs": [],
   "source": [
    "neighborhoodsSF = db.get_collection(\"neighborhoodsSF\")"
   ]
  },
  {
   "cell_type": "code",
   "execution_count": 14,
   "id": "46a2bfe2",
   "metadata": {},
   "outputs": [
    {
     "data": {
      "text/plain": [
       "<pymongo.results.InsertManyResult at 0x1b39a536110>"
      ]
     },
     "execution_count": 14,
     "metadata": {},
     "output_type": "execute_result"
    }
   ],
   "source": [
    "# neighborhoodsSF.insert_many(dict_neigh_rows)"
   ]
  },
  {
   "cell_type": "code",
   "execution_count": 15,
   "id": "ec9e7692",
   "metadata": {
    "scrolled": true
   },
   "outputs": [
    {
     "data": {
      "text/html": [
       "<div>\n",
       "<style scoped>\n",
       "    .dataframe tbody tr th:only-of-type {\n",
       "        vertical-align: middle;\n",
       "    }\n",
       "\n",
       "    .dataframe tbody tr th {\n",
       "        vertical-align: top;\n",
       "    }\n",
       "\n",
       "    .dataframe thead th {\n",
       "        text-align: right;\n",
       "    }\n",
       "</style>\n",
       "<table border=\"1\" class=\"dataframe\">\n",
       "  <thead>\n",
       "    <tr style=\"text-align: right;\">\n",
       "      <th></th>\n",
       "      <th>employees</th>\n",
       "      <th>lat</th>\n",
       "      <th>lon</th>\n",
       "      <th>positions</th>\n",
       "    </tr>\n",
       "  </thead>\n",
       "  <tbody>\n",
       "    <tr>\n",
       "      <th>1</th>\n",
       "      <td>87</td>\n",
       "      <td>37.784463</td>\n",
       "      <td>-122.242628</td>\n",
       "      <td>[-122.242628, 37.784463]</td>\n",
       "    </tr>\n",
       "    <tr>\n",
       "      <th>85</th>\n",
       "      <td>88</td>\n",
       "      <td>37.766039</td>\n",
       "      <td>-122.393089</td>\n",
       "      <td>[-122.3930894, 37.7660393]</td>\n",
       "    </tr>\n",
       "    <tr>\n",
       "      <th>60</th>\n",
       "      <td>90</td>\n",
       "      <td>37.723888</td>\n",
       "      <td>-122.236083</td>\n",
       "      <td>[-122.236083, 37.723888]</td>\n",
       "    </tr>\n",
       "    <tr>\n",
       "      <th>34</th>\n",
       "      <td>91</td>\n",
       "      <td>37.793076</td>\n",
       "      <td>-122.399608</td>\n",
       "      <td>[-122.399608, 37.793076]</td>\n",
       "    </tr>\n",
       "    <tr>\n",
       "      <th>36</th>\n",
       "      <td>91</td>\n",
       "      <td>37.793076</td>\n",
       "      <td>-122.399608</td>\n",
       "      <td>[-122.399608, 37.793076]</td>\n",
       "    </tr>\n",
       "    <tr>\n",
       "      <th>...</th>\n",
       "      <td>...</td>\n",
       "      <td>...</td>\n",
       "      <td>...</td>\n",
       "      <td>...</td>\n",
       "    </tr>\n",
       "    <tr>\n",
       "      <th>84</th>\n",
       "      <td>119</td>\n",
       "      <td>37.790913</td>\n",
       "      <td>-122.396728</td>\n",
       "      <td>[-122.3967284, 37.7909128]</td>\n",
       "    </tr>\n",
       "    <tr>\n",
       "      <th>83</th>\n",
       "      <td>119</td>\n",
       "      <td>37.790913</td>\n",
       "      <td>-122.396728</td>\n",
       "      <td>[-122.3967284, 37.7909128]</td>\n",
       "    </tr>\n",
       "    <tr>\n",
       "      <th>9</th>\n",
       "      <td>119</td>\n",
       "      <td>37.795014</td>\n",
       "      <td>-122.399435</td>\n",
       "      <td>[-122.399435, 37.795014]</td>\n",
       "    </tr>\n",
       "    <tr>\n",
       "      <th>94</th>\n",
       "      <td>119</td>\n",
       "      <td>37.790913</td>\n",
       "      <td>-122.396728</td>\n",
       "      <td>[-122.3967284, 37.7909128]</td>\n",
       "    </tr>\n",
       "    <tr>\n",
       "      <th>11</th>\n",
       "      <td>119</td>\n",
       "      <td>37.789890</td>\n",
       "      <td>-122.399930</td>\n",
       "      <td>[-122.39993, 37.78989]</td>\n",
       "    </tr>\n",
       "  </tbody>\n",
       "</table>\n",
       "<p>96 rows × 4 columns</p>\n",
       "</div>"
      ],
      "text/plain": [
       "    employees        lat         lon                   positions\n",
       "1          87  37.784463 -122.242628    [-122.242628, 37.784463]\n",
       "85         88  37.766039 -122.393089  [-122.3930894, 37.7660393]\n",
       "60         90  37.723888 -122.236083    [-122.236083, 37.723888]\n",
       "34         91  37.793076 -122.399608    [-122.399608, 37.793076]\n",
       "36         91  37.793076 -122.399608    [-122.399608, 37.793076]\n",
       "..        ...        ...         ...                         ...\n",
       "84        119  37.790913 -122.396728  [-122.3967284, 37.7909128]\n",
       "83        119  37.790913 -122.396728  [-122.3967284, 37.7909128]\n",
       "9         119  37.795014 -122.399435    [-122.399435, 37.795014]\n",
       "94        119  37.790913 -122.396728  [-122.3967284, 37.7909128]\n",
       "11        119  37.789890 -122.399930      [-122.39993, 37.78989]\n",
       "\n",
       "[96 rows x 4 columns]"
      ]
     },
     "execution_count": 15,
     "metadata": {},
     "output_type": "execute_result"
    }
   ],
   "source": [
    "# coordinates of offices in rents[\"lon\"] y rents[\"lat\"]\n",
    "rents[\"positions\"] = rents.apply(lambda row: [row[\"lon\"], row[\"lat\"]], axis=1)\n",
    "rents"
   ]
  },
  {
   "cell_type": "code",
   "execution_count": 16,
   "id": "dc778309",
   "metadata": {},
   "outputs": [
    {
     "name": "stdout",
     "output_type": "stream",
     "text": [
      "[[-122.242628, 37.784463], [-122.3930894, 37.7660393], [-122.236083, 37.723888], [-122.399608, 37.793076], [-122.399608, 37.793076], [-122.399608, 37.793076], [-121.921571, 37.368335], [-122.396108, 37.795251], [-122.28784, 37.83779], [-122.124104, 38.070633], [-122.3979675, 37.7927653], [-122.293231, 37.853225], [-122.401807, 37.793174], [-122.3946185, 37.7926608], [-122.391276, 37.7815], [-122.392064, 37.776501], [-122.401807, 37.793174], [-122.401807, 37.793174], [-122.3946185, 37.7926608], [-122.403342, 37.794353], [-122.399808, 37.78945], [-122.403342, 37.794353], [-122.403643, 37.795292], [-122.401807, 37.793174], [-122.403342, 37.794353], [-122.398641, 37.788446], [-122.401807, 37.793174], [-122.403342, 37.794353], [-122.405783, 37.785435], [-122.405349, 37.785765], [-122.4004474, 37.7870868], [-122.403342, 37.794353], [-122.398641, 37.788446], [-122.403517, 37.793857], [-122.403517, 37.793857], [-122.287257, 37.847661], [-122.396108, 37.795251], [-122.417193, 37.77737], [-122.403517, 37.793857], [-122.3966546, 37.7875914], [-122.400481, 37.788823], [-121.851035, 37.3349537], [-121.922854, 37.369809], [-121.925893, 37.385779], [-122.398641, 37.788446], [-122.398641, 37.788446], [-122.39993, 37.78989], [-122.396192, 37.78801], [-122.470284, 37.701203], [-122.398641, 37.788446], [-122.398641, 37.788446], [-122.398641, 37.788446], [-122.399132, 37.790472], [-122.400481, 37.788823], [-122.398641, 37.788446], [-122.3986756, 37.7861455], [-122.399132, 37.790472], [-122.399132, 37.790472], [-122.399132, 37.790472], [-121.8672543, 37.3221709], [-122.149809, 37.41481], [-122.408109, 37.783521], [-122.401246, 37.790461], [-122.400043, 37.790971], [-122.400043, 37.790971], [-122.3984543, 37.7856552], [-122.266877, 38.094966], [-122.420706, 37.628223], [-122.273274, 37.55796], [-122.401246, 37.790461], [-121.976649, 37.406231], [-122.401246, 37.790461], [-122.401246, 37.790461], [-122.4038069, 37.7729568], [-122.401246, 37.790461], [-122.403643, 37.795292], [-122.401246, 37.790461], [-122.273274, 37.55796], [-122.401246, 37.790461], [-122.273274, 37.55796], [-122.126458, 37.628007], [-122.39586, 37.785766], [-122.403643, 37.795292], [-122.403643, 37.795292], [-122.403643, 37.795292], [-122.403643, 37.795292], [-122.398641, 37.788446], [-122.403643, 37.795292], [-122.401688, 37.790965], [-122.046494, 37.32323], [-122.399435, 37.795014], [-122.3967284, 37.7909128], [-122.3967284, 37.7909128], [-122.399435, 37.795014], [-122.3967284, 37.7909128], [-122.39993, 37.78989]]\n"
     ]
    }
   ],
   "source": [
    "# Create a list with all the point coordinates to loop through them\n",
    "locations = [row[\"positions\"] for index, row in rents.iterrows()]\n",
    "print(locations)"
   ]
  },
  {
   "cell_type": "code",
   "execution_count": 17,
   "id": "fa269249",
   "metadata": {},
   "outputs": [],
   "source": [
    "positions = [{\"type\": \"Point\", \"coordinates\": i} for i in locations]"
   ]
  },
  {
   "cell_type": "code",
   "execution_count": 18,
   "id": "73bd0b18",
   "metadata": {},
   "outputs": [
    {
     "data": {
      "text/plain": [
       "'East Peralta'"
      ]
     },
     "execution_count": 18,
     "metadata": {},
     "output_type": "execute_result"
    }
   ],
   "source": [
    "neighborhoodsSF.find_one(\n",
    "        {\"geojson\":\n",
    "         {\"$geoIntersects\":\n",
    "          {\"$geometry\": {'type': 'Point', 'coordinates': [-122.242628, 37.784463]}}}\n",
    "        })[\"name\"]"
   ]
  },
  {
   "cell_type": "code",
   "execution_count": 19,
   "id": "a18b4005",
   "metadata": {},
   "outputs": [],
   "source": [
    "list_neigh = []\n",
    "for i in positions:\n",
    "    try:\n",
    "        list_neigh.append(\n",
    "            {\"neighborhoods\": neighborhoodsSF.find_one(\n",
    "                {\"geojson\":\n",
    "                 {\"$geoIntersects\":\n",
    "                  {\"$geometry\": i}\n",
    "                 }\n",
    "                })[\"name\"]\n",
    "            })\n",
    "    except: # I don't understand why some neightborhoods don't accept the location of the offices, when these locations are right\n",
    "        list_neigh.append({\"neighborhoods\":None})"
   ]
  },
  {
   "cell_type": "code",
   "execution_count": 42,
   "id": "76d62abd",
   "metadata": {},
   "outputs": [
    {
     "data": {
      "text/plain": [
       "neighborhoods     \n",
       "Financial District    67\n",
       "South Of Market        4\n",
       "Mission Bay            3\n",
       "North San Jose         3\n",
       "Alameda                1\n",
       "Name: count, dtype: int64"
      ]
     },
     "execution_count": 42,
     "metadata": {},
     "output_type": "execute_result"
    }
   ],
   "source": [
    "pd.DataFrame(list_neigh).value_counts().head()"
   ]
  },
  {
   "cell_type": "markdown",
   "id": "f3be0ce1",
   "metadata": {},
   "source": [
    "# 4 final venues"
   ]
  },
  {
   "cell_type": "code",
   "execution_count": 41,
   "id": "d47b0c42",
   "metadata": {},
   "outputs": [
    {
     "data": {
      "text/plain": [
       "[{'type': 'Point', 'coordinates': [-122.391276, 37.7815]},\n",
       " {'type': 'Point', 'coordinates': [-122.405783, 37.785435]},\n",
       " {'type': 'Point', 'coordinates': [-122.408109, 37.783521]},\n",
       " {'type': 'Point', 'coordinates': [-122.39586, 37.785766]}]"
      ]
     },
     "execution_count": 41,
     "metadata": {},
     "output_type": "execute_result"
    }
   ],
   "source": [
    "# https://www.viajarsanfrancisco.com/salir-de-fiesta-ocio-nocturno.php:\n",
    "# Best neighborhood for partying is South of Market\n",
    "list_offices = []\n",
    "for i in positions:\n",
    "    try:\n",
    "        if neighborhoodsSF.find_one(\n",
    "            {\"geojson\":\n",
    "             {\"$geoIntersects\":\n",
    "              {\"$geometry\": i}\n",
    "             }\n",
    "            })[\"name\"] == \"South Of Market\":\n",
    "            list_offices.append(i)\n",
    "    except:\n",
    "        pass\n",
    "list_offices"
   ]
  },
  {
   "cell_type": "code",
   "execution_count": null,
   "id": "a6c218de",
   "metadata": {},
   "outputs": [],
   "source": []
  }
 ],
 "metadata": {
  "kernelspec": {
   "display_name": "ironhack",
   "language": "python",
   "name": "ironhack"
  },
  "language_info": {
   "codemirror_mode": {
    "name": "ipython",
    "version": 3
   },
   "file_extension": ".py",
   "mimetype": "text/x-python",
   "name": "python",
   "nbconvert_exporter": "python",
   "pygments_lexer": "ipython3",
   "version": "3.11.5"
  }
 },
 "nbformat": 4,
 "nbformat_minor": 5
}
