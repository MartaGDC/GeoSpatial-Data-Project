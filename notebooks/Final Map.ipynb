{
 "cells": [
  {
   "cell_type": "markdown",
   "id": "14635242",
   "metadata": {},
   "source": [
    "Office:\n",
    "- Maximum number of employees: 112\n",
    "- lat: 37.783521\n",
    "- lon: -122.408109\n",
    "- Address: 901 Market Street\n"
   ]
  },
  {
   "cell_type": "code",
   "execution_count": null,
   "id": "4c9abebd",
   "metadata": {},
   "outputs": [],
   "source": []
  }
 ],
 "metadata": {
  "kernelspec": {
   "display_name": "ironhack",
   "language": "python",
   "name": "ironhack"
  },
  "language_info": {
   "codemirror_mode": {
    "name": "ipython",
    "version": 3
   },
   "file_extension": ".py",
   "mimetype": "text/x-python",
   "name": "python",
   "nbconvert_exporter": "python",
   "pygments_lexer": "ipython3",
   "version": "3.11.5"
  }
 },
 "nbformat": 4,
 "nbformat_minor": 5
}
