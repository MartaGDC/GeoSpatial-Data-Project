{
 "cells": [
  {
   "cell_type": "markdown",
   "id": "61cc04ce",
   "metadata": {},
   "source": [
    "Final Office:\n",
    "- Maximum number of employees: 112\n",
    "- lat: 37.783521\n",
    "- lon: -122.408109\n",
    "- Address: 901 Market Street\n"
   ]
  },
  {
   "cell_type": "markdown",
   "id": "27c16ded",
   "metadata": {},
   "source": [
    "# Libraries"
   ]
  },
  {
   "cell_type": "code",
   "execution_count": 1,
   "id": "fefb92cf",
   "metadata": {},
   "outputs": [],
   "source": [
    "import os\n",
    "import requests\n",
    "import pandas as pd\n",
    "import geopandas as gpd\n",
    "import folium\n",
    "from folium import Choropleth, Circle, Marker, Icon, Map\n",
    "from dotenv import load_dotenv"
   ]
  },
  {
   "cell_type": "code",
   "execution_count": 2,
   "id": "cdc1a965",
   "metadata": {},
   "outputs": [
    {
     "data": {
      "text/html": [
       "<div style=\"width:100%;\"><div style=\"position:relative;width:100%;height:0;padding-bottom:60%;\"><span style=\"color:#565656\">Make this Notebook Trusted to load map: File -> Trust Notebook</span><iframe srcdoc=\"&lt;!DOCTYPE html&gt;\n",
       "&lt;html&gt;\n",
       "&lt;head&gt;\n",
       "    \n",
       "    &lt;meta http-equiv=&quot;content-type&quot; content=&quot;text/html; charset=UTF-8&quot; /&gt;\n",
       "    \n",
       "        &lt;script&gt;\n",
       "            L_NO_TOUCH = false;\n",
       "            L_DISABLE_3D = false;\n",
       "        &lt;/script&gt;\n",
       "    \n",
       "    &lt;style&gt;html, body {width: 100%;height: 100%;margin: 0;padding: 0;}&lt;/style&gt;\n",
       "    &lt;style&gt;#map {position:absolute;top:0;bottom:0;right:0;left:0;}&lt;/style&gt;\n",
       "    &lt;script src=&quot;https://cdn.jsdelivr.net/npm/leaflet@1.9.3/dist/leaflet.js&quot;&gt;&lt;/script&gt;\n",
       "    &lt;script src=&quot;https://code.jquery.com/jquery-1.12.4.min.js&quot;&gt;&lt;/script&gt;\n",
       "    &lt;script src=&quot;https://cdn.jsdelivr.net/npm/bootstrap@5.2.2/dist/js/bootstrap.bundle.min.js&quot;&gt;&lt;/script&gt;\n",
       "    &lt;script src=&quot;https://cdnjs.cloudflare.com/ajax/libs/Leaflet.awesome-markers/2.0.2/leaflet.awesome-markers.js&quot;&gt;&lt;/script&gt;\n",
       "    &lt;link rel=&quot;stylesheet&quot; href=&quot;https://cdn.jsdelivr.net/npm/leaflet@1.9.3/dist/leaflet.css&quot;/&gt;\n",
       "    &lt;link rel=&quot;stylesheet&quot; href=&quot;https://cdn.jsdelivr.net/npm/bootstrap@5.2.2/dist/css/bootstrap.min.css&quot;/&gt;\n",
       "    &lt;link rel=&quot;stylesheet&quot; href=&quot;https://netdna.bootstrapcdn.com/bootstrap/3.0.0/css/bootstrap.min.css&quot;/&gt;\n",
       "    &lt;link rel=&quot;stylesheet&quot; href=&quot;https://cdn.jsdelivr.net/npm/@fortawesome/fontawesome-free@6.2.0/css/all.min.css&quot;/&gt;\n",
       "    &lt;link rel=&quot;stylesheet&quot; href=&quot;https://cdnjs.cloudflare.com/ajax/libs/Leaflet.awesome-markers/2.0.2/leaflet.awesome-markers.css&quot;/&gt;\n",
       "    &lt;link rel=&quot;stylesheet&quot; href=&quot;https://cdn.jsdelivr.net/gh/python-visualization/folium/folium/templates/leaflet.awesome.rotate.min.css&quot;/&gt;\n",
       "    \n",
       "            &lt;meta name=&quot;viewport&quot; content=&quot;width=device-width,\n",
       "                initial-scale=1.0, maximum-scale=1.0, user-scalable=no&quot; /&gt;\n",
       "            &lt;style&gt;\n",
       "                #map_463eacd2c3c79b6374ea05bdeb8326d4 {\n",
       "                    position: relative;\n",
       "                    width: 100.0%;\n",
       "                    height: 100.0%;\n",
       "                    left: 0.0%;\n",
       "                    top: 0.0%;\n",
       "                }\n",
       "                .leaflet-container { font-size: 1rem; }\n",
       "            &lt;/style&gt;\n",
       "        \n",
       "&lt;/head&gt;\n",
       "&lt;body&gt;\n",
       "    \n",
       "    \n",
       "            &lt;div class=&quot;folium-map&quot; id=&quot;map_463eacd2c3c79b6374ea05bdeb8326d4&quot; &gt;&lt;/div&gt;\n",
       "        \n",
       "&lt;/body&gt;\n",
       "&lt;script&gt;\n",
       "    \n",
       "    \n",
       "            var map_463eacd2c3c79b6374ea05bdeb8326d4 = L.map(\n",
       "                &quot;map_463eacd2c3c79b6374ea05bdeb8326d4&quot;,\n",
       "                {\n",
       "                    center: [37.7772222, -122.4111111],\n",
       "                    crs: L.CRS.EPSG3857,\n",
       "                    zoom: 15,\n",
       "                    zoomControl: true,\n",
       "                    preferCanvas: false,\n",
       "                }\n",
       "            );\n",
       "\n",
       "            \n",
       "\n",
       "        \n",
       "    \n",
       "            var tile_layer_ce11e9c44aa2d301f6a486a2c6875309 = L.tileLayer(\n",
       "                &quot;https://{s}.tile.openstreetmap.org/{z}/{x}/{y}.png&quot;,\n",
       "                {&quot;attribution&quot;: &quot;Data by \\u0026copy; \\u003ca target=\\&quot;_blank\\&quot; href=\\&quot;http://openstreetmap.org\\&quot;\\u003eOpenStreetMap\\u003c/a\\u003e, under \\u003ca target=\\&quot;_blank\\&quot; href=\\&quot;http://www.openstreetmap.org/copyright\\&quot;\\u003eODbL\\u003c/a\\u003e.&quot;, &quot;detectRetina&quot;: false, &quot;maxNativeZoom&quot;: 18, &quot;maxZoom&quot;: 18, &quot;minZoom&quot;: 0, &quot;noWrap&quot;: false, &quot;opacity&quot;: 1, &quot;subdomains&quot;: &quot;abc&quot;, &quot;tms&quot;: false}\n",
       "            ).addTo(map_463eacd2c3c79b6374ea05bdeb8326d4);\n",
       "        \n",
       "&lt;/script&gt;\n",
       "&lt;/html&gt;\" style=\"position:absolute;width:100%;height:100%;left:0;top:0;border:none !important;\" allowfullscreen webkitallowfullscreen mozallowfullscreen></iframe></div></div>"
      ],
      "text/plain": [
       "<folium.folium.Map at 0x1e86009efd0>"
      ]
     },
     "execution_count": 2,
     "metadata": {},
     "output_type": "execute_result"
    }
   ],
   "source": [
    "# These coordinates are found in wikipedia:\n",
    "lat = 37.7772222\n",
    "lon = -122.4111111\n",
    "map_SF = Map(location = [lat, lon], zoom_start = 15)\n",
    "map_SF"
   ]
  },
  {
   "cell_type": "code",
   "execution_count": 3,
   "id": "80fe919b",
   "metadata": {},
   "outputs": [
    {
     "data": {
      "text/plain": [
       "<folium.map.Marker at 0x1e85fe03850>"
      ]
     },
     "execution_count": 3,
     "metadata": {},
     "output_type": "execute_result"
    }
   ],
   "source": [
    "office_lat = 37.783521\n",
    "office_lon = -122.408109\n",
    "office = Marker(location = [office_lat, office_lon], tooltip=\"Office\")\n",
    "office.add_to(map_SF)"
   ]
  },
  {
   "cell_type": "code",
   "execution_count": 4,
   "id": "06e514d8",
   "metadata": {},
   "outputs": [
    {
     "data": {
      "text/html": [
       "<div style=\"width:100%;\"><div style=\"position:relative;width:100%;height:0;padding-bottom:60%;\"><span style=\"color:#565656\">Make this Notebook Trusted to load map: File -> Trust Notebook</span><iframe srcdoc=\"&lt;!DOCTYPE html&gt;\n",
       "&lt;html&gt;\n",
       "&lt;head&gt;\n",
       "    \n",
       "    &lt;meta http-equiv=&quot;content-type&quot; content=&quot;text/html; charset=UTF-8&quot; /&gt;\n",
       "    \n",
       "        &lt;script&gt;\n",
       "            L_NO_TOUCH = false;\n",
       "            L_DISABLE_3D = false;\n",
       "        &lt;/script&gt;\n",
       "    \n",
       "    &lt;style&gt;html, body {width: 100%;height: 100%;margin: 0;padding: 0;}&lt;/style&gt;\n",
       "    &lt;style&gt;#map {position:absolute;top:0;bottom:0;right:0;left:0;}&lt;/style&gt;\n",
       "    &lt;script src=&quot;https://cdn.jsdelivr.net/npm/leaflet@1.9.3/dist/leaflet.js&quot;&gt;&lt;/script&gt;\n",
       "    &lt;script src=&quot;https://code.jquery.com/jquery-1.12.4.min.js&quot;&gt;&lt;/script&gt;\n",
       "    &lt;script src=&quot;https://cdn.jsdelivr.net/npm/bootstrap@5.2.2/dist/js/bootstrap.bundle.min.js&quot;&gt;&lt;/script&gt;\n",
       "    &lt;script src=&quot;https://cdnjs.cloudflare.com/ajax/libs/Leaflet.awesome-markers/2.0.2/leaflet.awesome-markers.js&quot;&gt;&lt;/script&gt;\n",
       "    &lt;link rel=&quot;stylesheet&quot; href=&quot;https://cdn.jsdelivr.net/npm/leaflet@1.9.3/dist/leaflet.css&quot;/&gt;\n",
       "    &lt;link rel=&quot;stylesheet&quot; href=&quot;https://cdn.jsdelivr.net/npm/bootstrap@5.2.2/dist/css/bootstrap.min.css&quot;/&gt;\n",
       "    &lt;link rel=&quot;stylesheet&quot; href=&quot;https://netdna.bootstrapcdn.com/bootstrap/3.0.0/css/bootstrap.min.css&quot;/&gt;\n",
       "    &lt;link rel=&quot;stylesheet&quot; href=&quot;https://cdn.jsdelivr.net/npm/@fortawesome/fontawesome-free@6.2.0/css/all.min.css&quot;/&gt;\n",
       "    &lt;link rel=&quot;stylesheet&quot; href=&quot;https://cdnjs.cloudflare.com/ajax/libs/Leaflet.awesome-markers/2.0.2/leaflet.awesome-markers.css&quot;/&gt;\n",
       "    &lt;link rel=&quot;stylesheet&quot; href=&quot;https://cdn.jsdelivr.net/gh/python-visualization/folium/folium/templates/leaflet.awesome.rotate.min.css&quot;/&gt;\n",
       "    \n",
       "            &lt;meta name=&quot;viewport&quot; content=&quot;width=device-width,\n",
       "                initial-scale=1.0, maximum-scale=1.0, user-scalable=no&quot; /&gt;\n",
       "            &lt;style&gt;\n",
       "                #map_463eacd2c3c79b6374ea05bdeb8326d4 {\n",
       "                    position: relative;\n",
       "                    width: 100.0%;\n",
       "                    height: 100.0%;\n",
       "                    left: 0.0%;\n",
       "                    top: 0.0%;\n",
       "                }\n",
       "                .leaflet-container { font-size: 1rem; }\n",
       "            &lt;/style&gt;\n",
       "        \n",
       "&lt;/head&gt;\n",
       "&lt;body&gt;\n",
       "    \n",
       "    \n",
       "            &lt;div class=&quot;folium-map&quot; id=&quot;map_463eacd2c3c79b6374ea05bdeb8326d4&quot; &gt;&lt;/div&gt;\n",
       "        \n",
       "&lt;/body&gt;\n",
       "&lt;script&gt;\n",
       "    \n",
       "    \n",
       "            var map_463eacd2c3c79b6374ea05bdeb8326d4 = L.map(\n",
       "                &quot;map_463eacd2c3c79b6374ea05bdeb8326d4&quot;,\n",
       "                {\n",
       "                    center: [37.7772222, -122.4111111],\n",
       "                    crs: L.CRS.EPSG3857,\n",
       "                    zoom: 15,\n",
       "                    zoomControl: true,\n",
       "                    preferCanvas: false,\n",
       "                }\n",
       "            );\n",
       "\n",
       "            \n",
       "\n",
       "        \n",
       "    \n",
       "            var tile_layer_ce11e9c44aa2d301f6a486a2c6875309 = L.tileLayer(\n",
       "                &quot;https://{s}.tile.openstreetmap.org/{z}/{x}/{y}.png&quot;,\n",
       "                {&quot;attribution&quot;: &quot;Data by \\u0026copy; \\u003ca target=\\&quot;_blank\\&quot; href=\\&quot;http://openstreetmap.org\\&quot;\\u003eOpenStreetMap\\u003c/a\\u003e, under \\u003ca target=\\&quot;_blank\\&quot; href=\\&quot;http://www.openstreetmap.org/copyright\\&quot;\\u003eODbL\\u003c/a\\u003e.&quot;, &quot;detectRetina&quot;: false, &quot;maxNativeZoom&quot;: 18, &quot;maxZoom&quot;: 18, &quot;minZoom&quot;: 0, &quot;noWrap&quot;: false, &quot;opacity&quot;: 1, &quot;subdomains&quot;: &quot;abc&quot;, &quot;tms&quot;: false}\n",
       "            ).addTo(map_463eacd2c3c79b6374ea05bdeb8326d4);\n",
       "        \n",
       "    \n",
       "            var marker_abd378db64a24416a6029d33b6d4761f = L.marker(\n",
       "                [37.783521, -122.408109],\n",
       "                {}\n",
       "            ).addTo(map_463eacd2c3c79b6374ea05bdeb8326d4);\n",
       "        \n",
       "    \n",
       "            marker_abd378db64a24416a6029d33b6d4761f.bindTooltip(\n",
       "                `&lt;div&gt;\n",
       "                     Office\n",
       "                 &lt;/div&gt;`,\n",
       "                {&quot;sticky&quot;: true}\n",
       "            );\n",
       "        \n",
       "&lt;/script&gt;\n",
       "&lt;/html&gt;\" style=\"position:absolute;width:100%;height:100%;left:0;top:0;border:none !important;\" allowfullscreen webkitallowfullscreen mozallowfullscreen></iframe></div></div>"
      ],
      "text/plain": [
       "<folium.folium.Map at 0x1e86009efd0>"
      ]
     },
     "execution_count": 4,
     "metadata": {},
     "output_type": "execute_result"
    }
   ],
   "source": [
    "map_SF"
   ]
  },
  {
   "cell_type": "code",
   "execution_count": 5,
   "id": "7f9dccfe",
   "metadata": {},
   "outputs": [
    {
     "data": {
      "text/plain": [
       "True"
      ]
     },
     "execution_count": 5,
     "metadata": {},
     "output_type": "execute_result"
    }
   ],
   "source": [
    "load_dotenv()"
   ]
  },
  {
   "cell_type": "code",
   "execution_count": 6,
   "id": "366689a9",
   "metadata": {},
   "outputs": [],
   "source": [
    "token = os.getenv(\"token\")"
   ]
  },
  {
   "cell_type": "code",
   "execution_count": 7,
   "id": "2feedef3",
   "metadata": {},
   "outputs": [],
   "source": [
    "def request_4sq(venue, lat, lon, radius = 3700, sort_by = \"DISTANCE\", limit = 20):\n",
    "    url = f\"https://api.foursquare.com/v3/places/search?query={venue}&ll={lat}%2C{lon}&radius={radius}&sort={sort_by}&limit={limit}\"\n",
    "    headers = {\n",
    "        \"accept\": \"application/json\",\n",
    "        \"Authorization\": token\n",
    "    }\n",
    "    try:\n",
    "        return requests.get(url, headers = headers).json()\n",
    "    except:\n",
    "        print(\"Request not found\")"
   ]
  },
  {
   "cell_type": "markdown",
   "id": "66a35f1f",
   "metadata": {},
   "source": [
    "# Priority 1: schools"
   ]
  },
  {
   "cell_type": "code",
   "execution_count": 8,
   "id": "1653823f",
   "metadata": {},
   "outputs": [],
   "source": [
    "school_lat = 37.776344\n",
    "school_lon = -122.406468"
   ]
  },
  {
   "cell_type": "code",
   "execution_count": 9,
   "id": "3f988483",
   "metadata": {},
   "outputs": [],
   "source": [
    "icon_school = Icon(\n",
    "    color = \"green\",\n",
    "    icon_color = \"white\",\n",
    "    icon = \"book\",\n",
    "    prefix = \"fa\"\n",
    ")"
   ]
  },
  {
   "cell_type": "code",
   "execution_count": 10,
   "id": "c42ec59f",
   "metadata": {},
   "outputs": [],
   "source": [
    "marker_school = Marker(location = [school_lat, school_lon], tooltip=\"Bessie Carmichael Elementary School\", icon=icon_school)"
   ]
  },
  {
   "cell_type": "code",
   "execution_count": 11,
   "id": "8b983ac5",
   "metadata": {},
   "outputs": [
    {
     "data": {
      "text/plain": [
       "<folium.map.Marker at 0x1e860063fd0>"
      ]
     },
     "execution_count": 11,
     "metadata": {},
     "output_type": "execute_result"
    }
   ],
   "source": [
    "marker_school.add_to(map_SF)"
   ]
  },
  {
   "cell_type": "markdown",
   "id": "257da044",
   "metadata": {},
   "source": [
    "# Priority 2: design company"
   ]
  },
  {
   "cell_type": "code",
   "execution_count": 12,
   "id": "2382f168",
   "metadata": {},
   "outputs": [],
   "source": [
    "design_lat = 37.764726\n",
    "design_lon = -122.394523"
   ]
  },
  {
   "cell_type": "code",
   "execution_count": 13,
   "id": "4befac9a",
   "metadata": {},
   "outputs": [],
   "source": [
    "icon_design = Icon(\n",
    "    color = \"orange\",\n",
    "    icon_color = \"white\",\n",
    "    icon = \"building\",\n",
    "    prefix = \"fa\"\n",
    ")"
   ]
  },
  {
   "cell_type": "code",
   "execution_count": 14,
   "id": "e2ed99ec",
   "metadata": {},
   "outputs": [],
   "source": [
    "marker_design = Marker(location = [design_lat, design_lon], tooltip=\"Nearest Design company\", icon=icon_design)"
   ]
  },
  {
   "cell_type": "code",
   "execution_count": 15,
   "id": "a08d8d7d",
   "metadata": {},
   "outputs": [
    {
     "data": {
      "text/plain": [
       "<folium.map.Marker at 0x1e86009cd50>"
      ]
     },
     "execution_count": 15,
     "metadata": {},
     "output_type": "execute_result"
    }
   ],
   "source": [
    "marker_design.add_to(map_SF)"
   ]
  },
  {
   "cell_type": "markdown",
   "id": "412b7f8e",
   "metadata": {},
   "source": [
    "# Priority 3: cars"
   ]
  },
  {
   "cell_type": "code",
   "execution_count": 16,
   "id": "47f33bd0",
   "metadata": {},
   "outputs": [],
   "source": [
    "car_request =request_4sq(\"car rental\", office_lat, office_lon, limit=5)"
   ]
  },
  {
   "cell_type": "code",
   "execution_count": 17,
   "id": "a404b08d",
   "metadata": {},
   "outputs": [
    {
     "name": "stdout",
     "output_type": "stream",
     "text": [
      "['VeryLikelyOpen', 'Unsure', 'VeryLikelyOpen', 'Unsure', 'LikelyOpen']\n"
     ]
    }
   ],
   "source": [
    "car_open = [i[\"closed_bucket\"] for i in car_request[\"results\"]]\n",
    "print(car_open)"
   ]
  },
  {
   "cell_type": "code",
   "execution_count": 18,
   "id": "f4ed811d",
   "metadata": {},
   "outputs": [],
   "source": [
    "car_name = car_request[\"results\"][0][\"name\"]\n",
    "car_lat = car_request[\"results\"][0][\"geocodes\"][\"main\"][\"latitude\"]\n",
    "car_lon = car_request[\"results\"][0][\"geocodes\"][\"main\"][\"longitude\"]"
   ]
  },
  {
   "cell_type": "code",
   "execution_count": 19,
   "id": "bd88ec48",
   "metadata": {},
   "outputs": [],
   "source": [
    "icon_car = Icon(\n",
    "    color = \"gray\",\n",
    "    icon_color = \"lightgray\",\n",
    "    icon = \"car\",\n",
    "    prefix = \"fa\"\n",
    ")"
   ]
  },
  {
   "cell_type": "code",
   "execution_count": 20,
   "id": "f5434a1c",
   "metadata": {},
   "outputs": [],
   "source": [
    "marker_car = Marker(location = [car_lat, car_lon], tooltip=f\"Car rental: {car_name}\", icon=icon_car)"
   ]
  },
  {
   "cell_type": "code",
   "execution_count": 21,
   "id": "7c4f6f26",
   "metadata": {},
   "outputs": [
    {
     "data": {
      "text/plain": [
       "<folium.map.Marker at 0x1e84f1e5150>"
      ]
     },
     "execution_count": 21,
     "metadata": {},
     "output_type": "execute_result"
    }
   ],
   "source": [
    "marker_car.add_to(map_SF)"
   ]
  },
  {
   "cell_type": "markdown",
   "id": "4b07628a",
   "metadata": {},
   "source": [
    "# Prioriy 4: Starbucks"
   ]
  },
  {
   "cell_type": "code",
   "execution_count": 22,
   "id": "d073c405",
   "metadata": {},
   "outputs": [],
   "source": [
    "starbucks_request = request_4sq(\"starbucks\", office_lat, office_lon, limit=5)"
   ]
  },
  {
   "cell_type": "code",
   "execution_count": 23,
   "id": "51fef02f",
   "metadata": {},
   "outputs": [
    {
     "name": "stdout",
     "output_type": "stream",
     "text": [
      "['VeryLikelyOpen', 'VeryLikelyOpen', 'VeryLikelyOpen', 'VeryLikelyOpen', 'VeryLikelyOpen']\n"
     ]
    }
   ],
   "source": [
    "starbucks_open = [i[\"closed_bucket\"] for i in starbucks_request[\"results\"]]\n",
    "print(starbucks_open)"
   ]
  },
  {
   "cell_type": "code",
   "execution_count": 24,
   "id": "ba1c703e",
   "metadata": {},
   "outputs": [],
   "source": [
    "star_lat = starbucks_request[\"results\"][0][\"geocodes\"][\"main\"][\"latitude\"]\n",
    "star_lon = starbucks_request[\"results\"][0][\"geocodes\"][\"main\"][\"longitude\"]"
   ]
  },
  {
   "cell_type": "code",
   "execution_count": 25,
   "id": "dcec3577",
   "metadata": {},
   "outputs": [],
   "source": [
    "icon_star = Icon(\n",
    "    color = \"darkred\",\n",
    "    icon_color = \"lightgray\",\n",
    "    icon = \"coffee\",\n",
    "    prefix = \"fa\"\n",
    ")"
   ]
  },
  {
   "cell_type": "code",
   "execution_count": 26,
   "id": "9c256edd",
   "metadata": {},
   "outputs": [],
   "source": [
    "marker_star = Marker(location = [star_lat, star_lon], tooltip=\"Starbucks\", icon=icon_star)"
   ]
  },
  {
   "cell_type": "code",
   "execution_count": 27,
   "id": "8f946ccf",
   "metadata": {},
   "outputs": [],
   "source": [
    "marker_star.add_to(map_SF);"
   ]
  },
  {
   "cell_type": "markdown",
   "id": "a1e3d870",
   "metadata": {},
   "source": [
    "# Priority 5: basket"
   ]
  },
  {
   "cell_type": "code",
   "execution_count": 28,
   "id": "4e1005fe",
   "metadata": {},
   "outputs": [],
   "source": [
    "basketball_request =request_4sq(\"basketball court\", office_lat, office_lon, limit=5)"
   ]
  },
  {
   "cell_type": "code",
   "execution_count": 29,
   "id": "95999b27",
   "metadata": {},
   "outputs": [
    {
     "name": "stdout",
     "output_type": "stream",
     "text": [
      "['VeryLikelyOpen', 'LikelyOpen', 'VeryLikelyOpen', 'VeryLikelyOpen', 'VeryLikelyOpen']\n"
     ]
    }
   ],
   "source": [
    "court_open = [i[\"closed_bucket\"] for i in basketball_request[\"results\"]]\n",
    "print(court_open)"
   ]
  },
  {
   "cell_type": "code",
   "execution_count": 30,
   "id": "cdd7efe3",
   "metadata": {},
   "outputs": [],
   "source": [
    "court_name = basketball_request[\"results\"][0][\"name\"]\n",
    "court_lat = basketball_request[\"results\"][0][\"geocodes\"][\"main\"][\"latitude\"]\n",
    "court_lon = basketball_request[\"results\"][0][\"geocodes\"][\"main\"][\"longitude\"]"
   ]
  },
  {
   "cell_type": "code",
   "execution_count": 31,
   "id": "4ef48d1e",
   "metadata": {},
   "outputs": [],
   "source": [
    "icon_basket = Icon(\n",
    "    color = \"red\",\n",
    "    icon_color = \"white\",\n",
    "    icon = \"trophy\",\n",
    "    prefix = \"fa\"\n",
    ")"
   ]
  },
  {
   "cell_type": "code",
   "execution_count": 32,
   "id": "8e66cf0e",
   "metadata": {},
   "outputs": [],
   "source": [
    "marker_court = Marker(location = [court_lat, court_lon], tooltip=f\"Court: {court_name}\", icon=icon_basket)"
   ]
  },
  {
   "cell_type": "code",
   "execution_count": 33,
   "id": "79cf09eb",
   "metadata": {},
   "outputs": [],
   "source": [
    "marker_court.add_to(map_SF);"
   ]
  },
  {
   "cell_type": "markdown",
   "id": "dea30ef9",
   "metadata": {},
   "source": [
    "# Priority 6: vegan"
   ]
  },
  {
   "cell_type": "code",
   "execution_count": 34,
   "id": "09baa094",
   "metadata": {},
   "outputs": [],
   "source": [
    "vegan_request =request_4sq(\"vegan\", office_lat, office_lon, limit=5)"
   ]
  },
  {
   "cell_type": "code",
   "execution_count": 35,
   "id": "25acdc59",
   "metadata": {},
   "outputs": [
    {
     "name": "stdout",
     "output_type": "stream",
     "text": [
      "['VeryLikelyOpen', 'Unsure', 'LikelyOpen', 'LikelyOpen', 'LikelyOpen']\n"
     ]
    }
   ],
   "source": [
    "vegan_open = [i[\"closed_bucket\"] for i in vegan_request[\"results\"]]\n",
    "print(vegan_open)"
   ]
  },
  {
   "cell_type": "code",
   "execution_count": 36,
   "id": "ea3325f4",
   "metadata": {},
   "outputs": [],
   "source": [
    "vegan_name = vegan_request[\"results\"][0][\"name\"]\n",
    "vegan_lat = vegan_request[\"results\"][0][\"geocodes\"][\"main\"][\"latitude\"]\n",
    "vegan_lon = vegan_request[\"results\"][0][\"geocodes\"][\"main\"][\"longitude\"]"
   ]
  },
  {
   "cell_type": "code",
   "execution_count": 37,
   "id": "4b0aa2f1",
   "metadata": {},
   "outputs": [],
   "source": [
    "icon_vegan = Icon(\n",
    "    color = \"lightgreen\",\n",
    "    icon_color = \"gray\",\n",
    "    icon = \"leaf\",\n",
    "    prefix = \"fa\"\n",
    ")"
   ]
  },
  {
   "cell_type": "code",
   "execution_count": 38,
   "id": "ce360702",
   "metadata": {},
   "outputs": [],
   "source": [
    "marker_vegan = Marker(location = [vegan_lat, vegan_lon], tooltip=f\"Vegan: {vegan_name}\", icon=icon_vegan)"
   ]
  },
  {
   "cell_type": "code",
   "execution_count": 39,
   "id": "cf2fc3e8",
   "metadata": {},
   "outputs": [],
   "source": [
    "marker_vegan.add_to(map_SF);"
   ]
  },
  {
   "cell_type": "markdown",
   "id": "96c935f6",
   "metadata": {},
   "source": [
    "# Priority 7: dogs"
   ]
  },
  {
   "cell_type": "code",
   "execution_count": 40,
   "id": "8ac8d2ac",
   "metadata": {},
   "outputs": [],
   "source": [
    "dog_request = request_4sq(\"pet groomer\", office_lat, office_lon, limit=5)"
   ]
  },
  {
   "cell_type": "code",
   "execution_count": 41,
   "id": "fd53920c",
   "metadata": {},
   "outputs": [
    {
     "name": "stdout",
     "output_type": "stream",
     "text": [
      "['VeryLikelyOpen', 'VeryLikelyClosed', 'VeryLikelyClosed', 'VeryLikelyClosed', 'LikelyClosed']\n"
     ]
    }
   ],
   "source": [
    "dogs_open = [i[\"closed_bucket\"] for i in dog_request[\"results\"]]\n",
    "print(dogs_open)"
   ]
  },
  {
   "cell_type": "code",
   "execution_count": 42,
   "id": "cd7d1efd",
   "metadata": {},
   "outputs": [],
   "source": [
    "dogs_name = dog_request[\"results\"][0][\"name\"]\n",
    "dogs_lat = dog_request[\"results\"][0][\"geocodes\"][\"main\"][\"latitude\"]\n",
    "dogs_lon = dog_request[\"results\"][0][\"geocodes\"][\"main\"][\"longitude\"]"
   ]
  },
  {
   "cell_type": "code",
   "execution_count": 43,
   "id": "4d3370ec",
   "metadata": {},
   "outputs": [],
   "source": [
    "icon_dog = Icon(\n",
    "    color = \"darkpurple\",\n",
    "    icon_color = \"lightgray\",\n",
    "    icon = \"paw\",\n",
    "    prefix = \"fa\"\n",
    ")"
   ]
  },
  {
   "cell_type": "code",
   "execution_count": 44,
   "id": "04f99e9e",
   "metadata": {},
   "outputs": [],
   "source": [
    "marker_dog = Marker(location = [dogs_lat, dogs_lon], tooltip=f\"Pet grommers: {dogs_name}\", icon=icon_dog)"
   ]
  },
  {
   "cell_type": "code",
   "execution_count": 45,
   "id": "6bea298b",
   "metadata": {},
   "outputs": [
    {
     "data": {
      "text/html": [
       "<div style=\"width:100%;\"><div style=\"position:relative;width:100%;height:0;padding-bottom:60%;\"><span style=\"color:#565656\">Make this Notebook Trusted to load map: File -> Trust Notebook</span><iframe srcdoc=\"&lt;!DOCTYPE html&gt;\n",
       "&lt;html&gt;\n",
       "&lt;head&gt;\n",
       "    \n",
       "    &lt;meta http-equiv=&quot;content-type&quot; content=&quot;text/html; charset=UTF-8&quot; /&gt;\n",
       "    \n",
       "        &lt;script&gt;\n",
       "            L_NO_TOUCH = false;\n",
       "            L_DISABLE_3D = false;\n",
       "        &lt;/script&gt;\n",
       "    \n",
       "    &lt;style&gt;html, body {width: 100%;height: 100%;margin: 0;padding: 0;}&lt;/style&gt;\n",
       "    &lt;style&gt;#map {position:absolute;top:0;bottom:0;right:0;left:0;}&lt;/style&gt;\n",
       "    &lt;script src=&quot;https://cdn.jsdelivr.net/npm/leaflet@1.9.3/dist/leaflet.js&quot;&gt;&lt;/script&gt;\n",
       "    &lt;script src=&quot;https://code.jquery.com/jquery-1.12.4.min.js&quot;&gt;&lt;/script&gt;\n",
       "    &lt;script src=&quot;https://cdn.jsdelivr.net/npm/bootstrap@5.2.2/dist/js/bootstrap.bundle.min.js&quot;&gt;&lt;/script&gt;\n",
       "    &lt;script src=&quot;https://cdnjs.cloudflare.com/ajax/libs/Leaflet.awesome-markers/2.0.2/leaflet.awesome-markers.js&quot;&gt;&lt;/script&gt;\n",
       "    &lt;link rel=&quot;stylesheet&quot; href=&quot;https://cdn.jsdelivr.net/npm/leaflet@1.9.3/dist/leaflet.css&quot;/&gt;\n",
       "    &lt;link rel=&quot;stylesheet&quot; href=&quot;https://cdn.jsdelivr.net/npm/bootstrap@5.2.2/dist/css/bootstrap.min.css&quot;/&gt;\n",
       "    &lt;link rel=&quot;stylesheet&quot; href=&quot;https://netdna.bootstrapcdn.com/bootstrap/3.0.0/css/bootstrap.min.css&quot;/&gt;\n",
       "    &lt;link rel=&quot;stylesheet&quot; href=&quot;https://cdn.jsdelivr.net/npm/@fortawesome/fontawesome-free@6.2.0/css/all.min.css&quot;/&gt;\n",
       "    &lt;link rel=&quot;stylesheet&quot; href=&quot;https://cdnjs.cloudflare.com/ajax/libs/Leaflet.awesome-markers/2.0.2/leaflet.awesome-markers.css&quot;/&gt;\n",
       "    &lt;link rel=&quot;stylesheet&quot; href=&quot;https://cdn.jsdelivr.net/gh/python-visualization/folium/folium/templates/leaflet.awesome.rotate.min.css&quot;/&gt;\n",
       "    \n",
       "            &lt;meta name=&quot;viewport&quot; content=&quot;width=device-width,\n",
       "                initial-scale=1.0, maximum-scale=1.0, user-scalable=no&quot; /&gt;\n",
       "            &lt;style&gt;\n",
       "                #map_463eacd2c3c79b6374ea05bdeb8326d4 {\n",
       "                    position: relative;\n",
       "                    width: 100.0%;\n",
       "                    height: 100.0%;\n",
       "                    left: 0.0%;\n",
       "                    top: 0.0%;\n",
       "                }\n",
       "                .leaflet-container { font-size: 1rem; }\n",
       "            &lt;/style&gt;\n",
       "        \n",
       "&lt;/head&gt;\n",
       "&lt;body&gt;\n",
       "    \n",
       "    \n",
       "            &lt;div class=&quot;folium-map&quot; id=&quot;map_463eacd2c3c79b6374ea05bdeb8326d4&quot; &gt;&lt;/div&gt;\n",
       "        \n",
       "&lt;/body&gt;\n",
       "&lt;script&gt;\n",
       "    \n",
       "    \n",
       "            var map_463eacd2c3c79b6374ea05bdeb8326d4 = L.map(\n",
       "                &quot;map_463eacd2c3c79b6374ea05bdeb8326d4&quot;,\n",
       "                {\n",
       "                    center: [37.7772222, -122.4111111],\n",
       "                    crs: L.CRS.EPSG3857,\n",
       "                    zoom: 15,\n",
       "                    zoomControl: true,\n",
       "                    preferCanvas: false,\n",
       "                }\n",
       "            );\n",
       "\n",
       "            \n",
       "\n",
       "        \n",
       "    \n",
       "            var tile_layer_ce11e9c44aa2d301f6a486a2c6875309 = L.tileLayer(\n",
       "                &quot;https://{s}.tile.openstreetmap.org/{z}/{x}/{y}.png&quot;,\n",
       "                {&quot;attribution&quot;: &quot;Data by \\u0026copy; \\u003ca target=\\&quot;_blank\\&quot; href=\\&quot;http://openstreetmap.org\\&quot;\\u003eOpenStreetMap\\u003c/a\\u003e, under \\u003ca target=\\&quot;_blank\\&quot; href=\\&quot;http://www.openstreetmap.org/copyright\\&quot;\\u003eODbL\\u003c/a\\u003e.&quot;, &quot;detectRetina&quot;: false, &quot;maxNativeZoom&quot;: 18, &quot;maxZoom&quot;: 18, &quot;minZoom&quot;: 0, &quot;noWrap&quot;: false, &quot;opacity&quot;: 1, &quot;subdomains&quot;: &quot;abc&quot;, &quot;tms&quot;: false}\n",
       "            ).addTo(map_463eacd2c3c79b6374ea05bdeb8326d4);\n",
       "        \n",
       "    \n",
       "            var marker_abd378db64a24416a6029d33b6d4761f = L.marker(\n",
       "                [37.783521, -122.408109],\n",
       "                {}\n",
       "            ).addTo(map_463eacd2c3c79b6374ea05bdeb8326d4);\n",
       "        \n",
       "    \n",
       "            marker_abd378db64a24416a6029d33b6d4761f.bindTooltip(\n",
       "                `&lt;div&gt;\n",
       "                     Office\n",
       "                 &lt;/div&gt;`,\n",
       "                {&quot;sticky&quot;: true}\n",
       "            );\n",
       "        \n",
       "    \n",
       "            var marker_3c09b64609824bee4085d1c16223928b = L.marker(\n",
       "                [37.776344, -122.406468],\n",
       "                {}\n",
       "            ).addTo(map_463eacd2c3c79b6374ea05bdeb8326d4);\n",
       "        \n",
       "    \n",
       "            var icon_da57dce9f10107c164052b083c6f4cb5 = L.AwesomeMarkers.icon(\n",
       "                {&quot;extraClasses&quot;: &quot;fa-rotate-0&quot;, &quot;icon&quot;: &quot;book&quot;, &quot;iconColor&quot;: &quot;white&quot;, &quot;markerColor&quot;: &quot;green&quot;, &quot;prefix&quot;: &quot;fa&quot;}\n",
       "            );\n",
       "            marker_3c09b64609824bee4085d1c16223928b.setIcon(icon_da57dce9f10107c164052b083c6f4cb5);\n",
       "        \n",
       "    \n",
       "            marker_3c09b64609824bee4085d1c16223928b.bindTooltip(\n",
       "                `&lt;div&gt;\n",
       "                     Bessie Carmichael Elementary School\n",
       "                 &lt;/div&gt;`,\n",
       "                {&quot;sticky&quot;: true}\n",
       "            );\n",
       "        \n",
       "    \n",
       "            var marker_1f89fae6b7f1bcae552d4ad6d3db66a8 = L.marker(\n",
       "                [37.764726, -122.394523],\n",
       "                {}\n",
       "            ).addTo(map_463eacd2c3c79b6374ea05bdeb8326d4);\n",
       "        \n",
       "    \n",
       "            var icon_4ce96388bacded25c7c66a7e7b5369a5 = L.AwesomeMarkers.icon(\n",
       "                {&quot;extraClasses&quot;: &quot;fa-rotate-0&quot;, &quot;icon&quot;: &quot;building&quot;, &quot;iconColor&quot;: &quot;white&quot;, &quot;markerColor&quot;: &quot;orange&quot;, &quot;prefix&quot;: &quot;fa&quot;}\n",
       "            );\n",
       "            marker_1f89fae6b7f1bcae552d4ad6d3db66a8.setIcon(icon_4ce96388bacded25c7c66a7e7b5369a5);\n",
       "        \n",
       "    \n",
       "            marker_1f89fae6b7f1bcae552d4ad6d3db66a8.bindTooltip(\n",
       "                `&lt;div&gt;\n",
       "                     Nearest Design company\n",
       "                 &lt;/div&gt;`,\n",
       "                {&quot;sticky&quot;: true}\n",
       "            );\n",
       "        \n",
       "    \n",
       "            var marker_a76b4234d38e66b9720c3d5b66462c91 = L.marker(\n",
       "                [37.785633, -122.4106],\n",
       "                {}\n",
       "            ).addTo(map_463eacd2c3c79b6374ea05bdeb8326d4);\n",
       "        \n",
       "    \n",
       "            var icon_55c5f2e0aa77009c84c6f686eb892b59 = L.AwesomeMarkers.icon(\n",
       "                {&quot;extraClasses&quot;: &quot;fa-rotate-0&quot;, &quot;icon&quot;: &quot;car&quot;, &quot;iconColor&quot;: &quot;lightgray&quot;, &quot;markerColor&quot;: &quot;gray&quot;, &quot;prefix&quot;: &quot;fa&quot;}\n",
       "            );\n",
       "            marker_a76b4234d38e66b9720c3d5b66462c91.setIcon(icon_55c5f2e0aa77009c84c6f686eb892b59);\n",
       "        \n",
       "    \n",
       "            marker_a76b4234d38e66b9720c3d5b66462c91.bindTooltip(\n",
       "                `&lt;div&gt;\n",
       "                     Car rental: Budget Rent A Car\n",
       "                 &lt;/div&gt;`,\n",
       "                {&quot;sticky&quot;: true}\n",
       "            );\n",
       "        \n",
       "    \n",
       "            var marker_b7488c0bc99f553ecfaafd0066658ebb = L.marker(\n",
       "                [37.783998, -122.407206],\n",
       "                {}\n",
       "            ).addTo(map_463eacd2c3c79b6374ea05bdeb8326d4);\n",
       "        \n",
       "    \n",
       "            var icon_7e20e3578aa44372baadffdca838d137 = L.AwesomeMarkers.icon(\n",
       "                {&quot;extraClasses&quot;: &quot;fa-rotate-0&quot;, &quot;icon&quot;: &quot;coffee&quot;, &quot;iconColor&quot;: &quot;lightgray&quot;, &quot;markerColor&quot;: &quot;darkred&quot;, &quot;prefix&quot;: &quot;fa&quot;}\n",
       "            );\n",
       "            marker_b7488c0bc99f553ecfaafd0066658ebb.setIcon(icon_7e20e3578aa44372baadffdca838d137);\n",
       "        \n",
       "    \n",
       "            marker_b7488c0bc99f553ecfaafd0066658ebb.bindTooltip(\n",
       "                `&lt;div&gt;\n",
       "                     Starbucks\n",
       "                 &lt;/div&gt;`,\n",
       "                {&quot;sticky&quot;: true}\n",
       "            );\n",
       "        \n",
       "    \n",
       "            var marker_8457abeebc430f239f999636c29edd19 = L.marker(\n",
       "                [37.786373, -122.404335],\n",
       "                {}\n",
       "            ).addTo(map_463eacd2c3c79b6374ea05bdeb8326d4);\n",
       "        \n",
       "    \n",
       "            var icon_504abaa6cc023765da78b78ccaa6cdc9 = L.AwesomeMarkers.icon(\n",
       "                {&quot;extraClasses&quot;: &quot;fa-rotate-0&quot;, &quot;icon&quot;: &quot;trophy&quot;, &quot;iconColor&quot;: &quot;white&quot;, &quot;markerColor&quot;: &quot;red&quot;, &quot;prefix&quot;: &quot;fa&quot;}\n",
       "            );\n",
       "            marker_8457abeebc430f239f999636c29edd19.setIcon(icon_504abaa6cc023765da78b78ccaa6cdc9);\n",
       "        \n",
       "    \n",
       "            marker_8457abeebc430f239f999636c29edd19.bindTooltip(\n",
       "                `&lt;div&gt;\n",
       "                     Court: Equinox Sports Club San Francisco\n",
       "                 &lt;/div&gt;`,\n",
       "                {&quot;sticky&quot;: true}\n",
       "            );\n",
       "        \n",
       "    \n",
       "            var marker_ac2311fd62a884c5911d2dcde6522608 = L.marker(\n",
       "                [37.7824, -122.405048],\n",
       "                {}\n",
       "            ).addTo(map_463eacd2c3c79b6374ea05bdeb8326d4);\n",
       "        \n",
       "    \n",
       "            var icon_5d4a5e303301d4946634ba922e655c9e = L.AwesomeMarkers.icon(\n",
       "                {&quot;extraClasses&quot;: &quot;fa-rotate-0&quot;, &quot;icon&quot;: &quot;leaf&quot;, &quot;iconColor&quot;: &quot;gray&quot;, &quot;markerColor&quot;: &quot;lightgreen&quot;, &quot;prefix&quot;: &quot;fa&quot;}\n",
       "            );\n",
       "            marker_ac2311fd62a884c5911d2dcde6522608.setIcon(icon_5d4a5e303301d4946634ba922e655c9e);\n",
       "        \n",
       "    \n",
       "            marker_ac2311fd62a884c5911d2dcde6522608.bindTooltip(\n",
       "                `&lt;div&gt;\n",
       "                     Vegan: Sweetgreen\n",
       "                 &lt;/div&gt;`,\n",
       "                {&quot;sticky&quot;: true}\n",
       "            );\n",
       "        \n",
       "    \n",
       "            var marker_ae8792feb56d93047ae4153be9953139 = L.marker(\n",
       "                [37.790331, -122.408575],\n",
       "                {}\n",
       "            ).addTo(map_463eacd2c3c79b6374ea05bdeb8326d4);\n",
       "        \n",
       "    \n",
       "            var icon_79b42af884d30933b7329b731a53bd46 = L.AwesomeMarkers.icon(\n",
       "                {&quot;extraClasses&quot;: &quot;fa-rotate-0&quot;, &quot;icon&quot;: &quot;paw&quot;, &quot;iconColor&quot;: &quot;lightgray&quot;, &quot;markerColor&quot;: &quot;darkpurple&quot;, &quot;prefix&quot;: &quot;fa&quot;}\n",
       "            );\n",
       "            marker_ae8792feb56d93047ae4153be9953139.setIcon(icon_79b42af884d30933b7329b731a53bd46);\n",
       "        \n",
       "    \n",
       "            marker_ae8792feb56d93047ae4153be9953139.bindTooltip(\n",
       "                `&lt;div&gt;\n",
       "                     Pet grommers: Kitty Kat Pet Sitting Services\n",
       "                 &lt;/div&gt;`,\n",
       "                {&quot;sticky&quot;: true}\n",
       "            );\n",
       "        \n",
       "&lt;/script&gt;\n",
       "&lt;/html&gt;\" style=\"position:absolute;width:100%;height:100%;left:0;top:0;border:none !important;\" allowfullscreen webkitallowfullscreen mozallowfullscreen></iframe></div></div>"
      ],
      "text/plain": [
       "<folium.folium.Map at 0x1e86009efd0>"
      ]
     },
     "execution_count": 45,
     "metadata": {},
     "output_type": "execute_result"
    }
   ],
   "source": [
    "marker_dog.add_to(map_SF);\n",
    "map_SF"
   ]
  },
  {
   "cell_type": "markdown",
   "id": "dfe6d172",
   "metadata": {},
   "source": [
    "# Export the map as html"
   ]
  },
  {
   "cell_type": "code",
   "execution_count": 46,
   "id": "8c5b0f44",
   "metadata": {},
   "outputs": [],
   "source": [
    "map_SF.save(\"../images/mapa.html\")"
   ]
  },
  {
   "cell_type": "code",
   "execution_count": null,
   "id": "a50d9a12",
   "metadata": {},
   "outputs": [],
   "source": []
  },
  {
   "cell_type": "code",
   "execution_count": null,
   "id": "dcfbd56f",
   "metadata": {},
   "outputs": [],
   "source": []
  },
  {
   "cell_type": "code",
   "execution_count": null,
   "id": "e72cc513",
   "metadata": {},
   "outputs": [],
   "source": []
  },
  {
   "cell_type": "code",
   "execution_count": null,
   "id": "b875a8f0",
   "metadata": {},
   "outputs": [],
   "source": []
  }
 ],
 "metadata": {
  "kernelspec": {
   "display_name": "ironhack",
   "language": "python",
   "name": "ironhack"
  },
  "language_info": {
   "codemirror_mode": {
    "name": "ipython",
    "version": 3
   },
   "file_extension": ".py",
   "mimetype": "text/x-python",
   "name": "python",
   "nbconvert_exporter": "python",
   "pygments_lexer": "ipython3",
   "version": "3.11.5"
  }
 },
 "nbformat": 4,
 "nbformat_minor": 5
}
